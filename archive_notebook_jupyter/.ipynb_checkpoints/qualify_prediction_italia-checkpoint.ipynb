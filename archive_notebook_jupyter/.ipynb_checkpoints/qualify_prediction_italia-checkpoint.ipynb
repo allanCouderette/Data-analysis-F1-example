{
 "cells": [
  {
   "cell_type": "markdown",
   "metadata": {},
   "source": [
    "# Prédiction des Qualifications de Italie"
   ]
  },
  {
   "cell_type": "markdown",
   "metadata": {},
   "source": [
    "Pendant une saison de F1, le niveau des équipes peux changer. De plus, les circuits influent sur le comportement des monoplaces (chaleur, longueur, météo, grip). \n",
    "<br><br>\n",
    "Prédire les résultats des qualifications en se basant sur la dernière course n'est donc pas faisable. Pour donner un objectif aux pilotes, il est nécessaire de prédire les qualifications en se basant sur les temps effectués par les équipes pendants les essais libres. Néanmoins les équipes, pour économiser leurs voitures et ne pas montrer leur jeu, utilisent un mode moteur différents en essai libre, en qualification et en course. \n",
    "<br><br>\n",
    "Etant à la 13ème course de la saison, le grand prix d'Italie, nous allons nous baser sur les écarts entre les meilleurs temps des essais libre et leur meilleur temps en qualification des équipes pour chaque grand prix.\n",
    "<br><br>\n",
    "<br><br>\n",
    "*A noter que nous disposons des données d'essai libre seulement pour les grand prix à partir de Monaco (6ème grand prix de la saison)*"
   ]
  },
  {
   "cell_type": "markdown",
   "metadata": {},
   "source": [
    "## Import des livrairies et dataset"
   ]
  },
  {
   "cell_type": "code",
   "execution_count": 663,
   "metadata": {},
   "outputs": [],
   "source": [
    "## Import des librairies\n",
    "import csv\n",
    "\n",
    "import pandas as pd\n",
    "import seaborn as sns\n",
    "import datetime as dt\n",
    "import numpy as np\n",
    "import matplotlib as mp"
   ]
  },
  {
   "cell_type": "code",
   "execution_count": 2,
   "metadata": {},
   "outputs": [
    {
     "ename": "NameError",
     "evalue": "name 'pd' is not defined",
     "output_type": "error",
     "traceback": [
      "\u001b[0;31m---------------------------------------------------------------------------\u001b[0m",
      "\u001b[0;31mNameError\u001b[0m                                 Traceback (most recent call last)",
      "\u001b[0;32m<ipython-input-2-821bec457470>\u001b[0m in \u001b[0;36m<module>\u001b[0;34m\u001b[0m\n\u001b[1;32m      1\u001b[0m \u001b[0;31m## Grand prix de Monaco essai libre\u001b[0m\u001b[0;34m\u001b[0m\u001b[0;34m\u001b[0m\u001b[0;34m\u001b[0m\u001b[0m\n\u001b[0;32m----> 2\u001b[0;31m \u001b[0mmonaco_p1\u001b[0m \u001b[0;34m=\u001b[0m \u001b[0mpd\u001b[0m\u001b[0;34m.\u001b[0m\u001b[0mread_csv\u001b[0m\u001b[0;34m(\u001b[0m\u001b[0;34m'data/6_Monaco_data/p1.csv'\u001b[0m\u001b[0;34m,\u001b[0m\u001b[0msep\u001b[0m\u001b[0;34m=\u001b[0m\u001b[0;34m';'\u001b[0m\u001b[0;34m)\u001b[0m\u001b[0;34m\u001b[0m\u001b[0;34m\u001b[0m\u001b[0m\n\u001b[0m\u001b[1;32m      3\u001b[0m \u001b[0mmonaco_p2\u001b[0m \u001b[0;34m=\u001b[0m \u001b[0mpd\u001b[0m\u001b[0;34m.\u001b[0m\u001b[0mread_csv\u001b[0m\u001b[0;34m(\u001b[0m\u001b[0;34m'data/6_Monaco_data/p2.csv'\u001b[0m\u001b[0;34m,\u001b[0m\u001b[0msep\u001b[0m\u001b[0;34m=\u001b[0m\u001b[0;34m';'\u001b[0m\u001b[0;34m)\u001b[0m\u001b[0;34m\u001b[0m\u001b[0;34m\u001b[0m\u001b[0m\n\u001b[1;32m      4\u001b[0m \u001b[0mmonaco_p3\u001b[0m \u001b[0;34m=\u001b[0m \u001b[0mpd\u001b[0m\u001b[0;34m.\u001b[0m\u001b[0mread_csv\u001b[0m\u001b[0;34m(\u001b[0m\u001b[0;34m'data/6_Monaco_data/p3.csv'\u001b[0m\u001b[0;34m,\u001b[0m\u001b[0msep\u001b[0m\u001b[0;34m=\u001b[0m\u001b[0;34m';'\u001b[0m\u001b[0;34m)\u001b[0m\u001b[0;34m\u001b[0m\u001b[0;34m\u001b[0m\u001b[0m\n\u001b[1;32m      5\u001b[0m \u001b[0;34m\u001b[0m\u001b[0m\n",
      "\u001b[0;31mNameError\u001b[0m: name 'pd' is not defined"
     ]
    }
   ],
   "source": [
    "## Grand prix de Monaco essai libre\n",
    "monaco_p1 = pd.read_csv('data/6_Monaco_data/p1.csv',sep=';')\n",
    "monaco_p2 = pd.read_csv('data/6_Monaco_data/p2.csv',sep=';')\n",
    "monaco_p3 = pd.read_csv('data/6_Monaco_data/p3.csv',sep=';')\n",
    "\n",
    "## Grand prix de Monaco Qualification\n",
    "monaco_qualify = pd.read_csv('data/6_Monaco_data/qualify.csv',sep=';')\n",
    "\n",
    "\n",
    "## Grand prix du Canada essai libre\n",
    "canada_p1 = pd.read_csv('data/7_Canada_data/p1.csv',sep=';')\n",
    "canada_p2 = pd.read_csv('data/7_Canada_data/p2.csv',sep=';')\n",
    "canada_p3 = pd.read_csv('data/7_Canada_data/p3.csv',sep=';')\n",
    "\n",
    "## Grand prix du Canada Qualification\n",
    "canada_qualify = pd.read_csv('data/7_Canada_data/qualify.csv',sep=';')\n",
    "\n",
    "\n",
    "## Grand prix d'Europe essai libre\n",
    "europa_p1 = pd.read_csv('data/8_Europa_data/p1.csv',sep=';')\n",
    "europa_p2 = pd.read_csv('data/8_Europa_data/p2.csv',sep=';')\n",
    "europa_p3 = pd.read_csv('data/8_Europa_data/p3.csv',sep=';')\n",
    "\n",
    "## Grand prix d'Europe Qualification\n",
    "europa_qualify = pd.read_csv('data/8_Europa_data/qualify.csv',sep=';')\n",
    "\n",
    "\n",
    "## Grand prix de Grande bretagne essai libre\n",
    "great_britain_p1 = pd.read_csv('9_Great_britain_data/p1.csv',sep=';')\n",
    "great_britain_p2 = pd.read_csv('9_Great_britain_data/p2.csv',sep=';')\n",
    "great_britain_p3 = pd.read_csv('9_Great_britain_data/p3.csv',sep=';')\n",
    "\n",
    "## Grand prix de Grande bretagne Qualification\n",
    "great_britain_qualify = pd.read_csv('9_Great_britain_data/qualify.csv',sep=';')\n",
    "\n",
    "\n",
    "## Grand prix d'Allemagne essai libre\n",
    "germany_p1 = pd.read_csv('10_Germany_data/p1.csv',sep=';')\n",
    "germany_p2 = pd.read_csv('10_Germany_data/p2.csv',sep=';')\n",
    "germany_p3 = pd.read_csv('10_Germany_data/p3.csv',sep=';')\n",
    "\n",
    "## Grand prix d'Allemagne Qualification\n",
    "germany_qualify = pd.read_csv('10_Germany_data/qualify.csv',sep=';')\n",
    "\n",
    "\n",
    "## Grand prix d'Hongrie essai libre\n",
    "hungary_p1 = pd.read_csv('11_Hungary_data/p1.csv',sep=';')\n",
    "hungary_p2 = pd.read_csv('11_Hungary_data/p2.csv',sep=';')\n",
    "hungary_p3 = pd.read_csv('11_Hungary_data/p3.csv',sep=';')\n",
    "\n",
    "## Grand prix d'Hongrie Qualification\n",
    "hungary_qualify = pd.read_csv('11_Hungary_data/qualify.csv',sep=';')\n",
    "\n",
    "\n",
    "## Grand prix de Belgique essai libre\n",
    "belgium_p1 = pd.read_csv('12_Belgium_data/p1.csv',sep=';')\n",
    "belgium_p2 = pd.read_csv('12_Belgium_data/p2.csv',sep=';')\n",
    "belgium_p3 = pd.read_csv('12_Belgium_data/p3.csv',sep=';')\n",
    "\n",
    "## Grand prix de Belgique Qualification\n",
    "belgium_qualify = pd.read_csv('12_Belgium_data/qualify.csv',sep=';')\n",
    "\n",
    "## Grand prix de Belgique essai libre\n",
    "italia_p1 = pd.read_csv('13_Italia_data/p1.csv',sep=';')\n",
    "italia_p2 = pd.read_csv('13_Italia_data/p2.csv',sep=';')\n",
    "italia_p3 = pd.read_csv('13_Italia_data/p3.csv',sep=';')\n",
    "\n",
    "## Grand prix de Belgique Qualification\n",
    "italia_qualify = pd.read_csv('13_Italia_data/qualify.csv',sep=';')\n"
   ]
  },
  {
   "cell_type": "markdown",
   "metadata": {},
   "source": [
    "## Traitement des Datasets"
   ]
  },
  {
   "cell_type": "markdown",
   "metadata": {},
   "source": [
    "Pour prédire le résultat des qualifications du grand prix d'Italie, on va devoir mesurer un écarts probable entre les temps en essais libre et le temps de qualification de nos concurrents.\n",
    "<br><br>\n",
    "Nos principales concurents étant l'équipe Force India, je me concentrerais sur ces pilotes."
   ]
  },
  {
   "cell_type": "code",
   "execution_count": 665,
   "metadata": {},
   "outputs": [
    {
     "name": "stdout",
     "output_type": "stream",
     "text": [
      "<class 'pandas.core.frame.DataFrame'>\n",
      "RangeIndex: 171 entries, 0 to 170\n",
      "Data columns (total 9 columns):\n",
      " #   Column                  Non-Null Count  Dtype \n",
      "---  ------                  --------------  ----- \n",
      " 0   Name                    171 non-null    object\n",
      " 1   DriverNum               171 non-null    int64 \n",
      " 2   Lap                     171 non-null    int64 \n",
      " 3   Time                    171 non-null    object\n",
      " 4   Elapsed                 171 non-null    object\n",
      " 5   Stint                   171 non-null    int64 \n",
      " 6   Fuel Corrected Laptime  171 non-null    object\n",
      " 7   Stint Length            171 non-null    int64 \n",
      " 8   Lap in stint            171 non-null    int64 \n",
      "dtypes: int64(5), object(4)\n",
      "memory usage: 12.1+ KB\n"
     ]
    }
   ],
   "source": [
    "belgium_p1.info()"
   ]
  },
  {
   "cell_type": "code",
   "execution_count": 666,
   "metadata": {},
   "outputs": [
    {
     "name": "stdout",
     "output_type": "stream",
     "text": [
      "<class 'pandas.core.frame.DataFrame'>\n",
      "RangeIndex: 292 entries, 0 to 291\n",
      "Data columns (total 9 columns):\n",
      " #   Column                  Non-Null Count  Dtype \n",
      "---  ------                  --------------  ----- \n",
      " 0   Name                    292 non-null    object\n",
      " 1   DriverNum               292 non-null    int64 \n",
      " 2   Lap                     292 non-null    int64 \n",
      " 3   Time                    292 non-null    object\n",
      " 4   Elapsed                 292 non-null    object\n",
      " 5   Stint                   292 non-null    int64 \n",
      " 6   Fuel Corrected Laptime  292 non-null    object\n",
      " 7   Stint Length            292 non-null    int64 \n",
      " 8   Lap in stint            292 non-null    int64 \n",
      "dtypes: int64(5), object(4)\n",
      "memory usage: 20.7+ KB\n"
     ]
    }
   ],
   "source": [
    "belgium_qualify.info()"
   ]
  },
  {
   "cell_type": "markdown",
   "metadata": {},
   "source": [
    "Les datasets ont les mêmes champs. Dans le cadre de mon travail, j'ai besoin de récupérer les meilleurs temps des essais libre et des qualifications par course et par pilote. Je dois, pour cela, convertir le champs Time des p1,p2,p3 et qualify en float."
   ]
  },
  {
   "cell_type": "code",
   "execution_count": 667,
   "metadata": {},
   "outputs": [],
   "source": [
    "## Grand prix de Monaco\n",
    "monaco_p1[\"Time\"] =  monaco_p1[\"Time\"].str.replace(',','.').astype(float)\n",
    "monaco_p2[\"Time\"] =  monaco_p2[\"Time\"].str.replace(',','.').astype(float)\n",
    "monaco_p3[\"Time\"] =  monaco_p3[\"Time\"].str.replace(',','.').astype(float)\n",
    "monaco_qualify[\"Time\"] =  monaco_qualify[\"Time\"].str.replace(',','.').astype(float)\n",
    "\n",
    "## Grand prix du Canada\n",
    "canada_p1[\"Time\"] =  canada_p1[\"Time\"].str.replace(',','.').astype(float)\n",
    "canada_p2[\"Time\"] =  canada_p2[\"Time\"].str.replace(',','.').astype(float)\n",
    "canada_p3[\"Time\"] =  canada_p3[\"Time\"].str.replace(',','.').astype(float)\n",
    "canada_qualify[\"Time\"] =  canada_qualify[\"Time\"].str.replace(',','.').astype(float)\n",
    "\n",
    "## Grand prix d'Europe\n",
    "europa_p1[\"Time\"] =  europa_p1[\"Time\"].str.replace(',','.').astype(float)\n",
    "europa_p2[\"Time\"] =  europa_p2[\"Time\"].str.replace(',','.').astype(float)\n",
    "europa_p3[\"Time\"] =  europa_p3[\"Time\"].str.replace(',','.').astype(float)\n",
    "europa_qualify[\"Time\"] =  europa_qualify[\"Time\"].str.replace(',','.').astype(float)\n",
    "\n",
    "## Grand prix de Grande bretagne\n",
    "great_britain_p1[\"Time\"] =  great_britain_p1[\"Time\"].str.replace(',','.').astype(float)\n",
    "great_britain_p2[\"Time\"] =  great_britain_p2[\"Time\"].str.replace(',','.').astype(float)\n",
    "great_britain_p3[\"Time\"] =  great_britain_p3[\"Time\"].str.replace(',','.').astype(float)\n",
    "great_britain_qualify[\"Time\"] =  great_britain_qualify[\"Time\"].str.replace(',','.').astype(float)\n",
    "\n",
    "## Grand prix d'Allemagne\n",
    "germany_p1[\"Time\"] =  germany_p1[\"Time\"].str.replace(',','.').astype(float)\n",
    "germany_p2[\"Time\"] =  germany_p2[\"Time\"].str.replace(',','.').astype(float)\n",
    "germany_p3[\"Time\"] =  germany_p3[\"Time\"].str.replace(',','.').astype(float)\n",
    "germany_qualify[\"Time\"] =  germany_qualify[\"Time\"].str.replace(',','.').astype(float)\n",
    "\n",
    "## Grand prix d'Hongrie\n",
    "hungary_p1[\"Time\"] =  hungary_p1[\"Time\"].str.replace(',','.').astype(float)\n",
    "hungary_p2[\"Time\"] =  hungary_p2[\"Time\"].str.replace(',','.').astype(float)\n",
    "hungary_p3[\"Time\"] =  hungary_p3[\"Time\"].str.replace(',','.').astype(float)\n",
    "hungary_qualify[\"Time\"] =  hungary_qualify[\"Time\"].str.replace(',','.').astype(float)\n",
    "\n",
    "## Grand prix de Belgique\n",
    "belgium_p1[\"Time\"] =  belgium_p1[\"Time\"].str.replace(',','.').astype(float)\n",
    "belgium_p2[\"Time\"] =  belgium_p2[\"Time\"].str.replace(',','.').astype(float)\n",
    "belgium_p3[\"Time\"] =  belgium_p3[\"Time\"].str.replace(',','.').astype(float)\n",
    "belgium_qualify[\"Time\"] =  belgium_qualify[\"Time\"].str.replace(',','.').astype(float)\n"
   ]
  },
  {
   "cell_type": "markdown",
   "metadata": {},
   "source": [
    "Nous souhaitons récupérer le meilleur temps réaliser en essai libre et le meilleur temps réaliser en qualification par pilote et par weekend de grand prix."
   ]
  },
  {
   "cell_type": "code",
   "execution_count": 668,
   "metadata": {},
   "outputs": [],
   "source": [
    "vettel = minimumPracticeAndQualifyForAllRace('S. VETTEL')\n",
    "webber = minimumPracticeAndQualifyForAllRace('M. WEBBER')\n",
    "hamilton = minimumPracticeAndQualifyForAllRace('L. HAMILTON')\n",
    "button = minimumPracticeAndQualifyForAllRace('J. BUTTON')\n",
    "alonso = minimumPracticeAndQualifyForAllRace('F. ALONSO')\n",
    "massa = minimumPracticeAndQualifyForAllRace('F. MASSA')\n",
    "schumacher = minimumPracticeAndQualifyForAllRace('M. SCHUMACHER')\n",
    "rosberg = minimumPracticeAndQualifyForAllRace('N. ROSBERG')\n",
    "heidfeld = minimumPracticeAndQualifyForAllRace('N. HEIDFELD')\n",
    "senna = minimumPracticeAndQualifyForAllRace('B. SENNA')\n",
    "petrov = minimumPracticeAndQualifyForAllRace('V. PETROV')\n",
    "barrichello = minimumPracticeAndQualifyForAllRace('R. BARRICHELLO')\n",
    "maldonado = minimumPracticeAndQualifyForAllRace('P. MALDONADO')\n",
    "sutil = minimumPracticeAndQualifyForAllRace('A. SUTIL')\n",
    "di_resta = minimumPracticeAndQualifyForAllRace('P. DI RESTA')\n",
    "kobayashi = minimumPracticeAndQualifyForAllRace('K. KOBAYASHI')\n",
    "perez = minimumPracticeAndQualifyForAllRace('S. PEREZ')\n",
    "de_la_rosa = minimumPracticeAndQualifyForAllRace('P. DE LA ROSA')\n",
    "buemi = minimumPracticeAndQualifyForAllRace('S. BUEMI')\n",
    "alguersuari = minimumPracticeAndQualifyForAllRace('J. ALGUERSUARI')\n",
    "kovalainen = minimumPracticeAndQualifyForAllRace('H. KOVALAINEN')\n",
    "trulli = minimumPracticeAndQualifyForAllRace('J. TRULLI')\n",
    "chandhok = minimumPracticeAndQualifyForAllRace('K. CHANDHOK')\n",
    "ricciardo = minimumPracticeAndQualifyForAllRace('D. RICCIARDO')\n",
    "liuzzi = minimumPracticeAndQualifyForAllRace('V. LIUZZI')\n",
    "karthikeyan = minimumPracticeAndQualifyForAllRace('N. KARTHIKEYAN')\n",
    "glock = minimumPracticeAndQualifyForAllRace('T. GLOCK')\n",
    "ambrosio = minimumPracticeAndQualifyForAllRace(\"J. D'AMBROSIO\")"
   ]
  },
  {
   "cell_type": "code",
   "execution_count": 669,
   "metadata": {},
   "outputs": [
    {
     "data": {
      "text/plain": [
       "[[78.736, 78.808, \"J. D'AMBROSIO\", 'monaco'],\n",
       " [nan, 80.475, \"J. D'AMBROSIO\", 'canada'],\n",
       " [103.735, 102.809, \"J. D'AMBROSIO\", 'europa'],\n",
       " [97.154, 98.068, \"J. D'AMBROSIO\", 'great_britain'],\n",
       " [96.641, 96.894, \"J. D'AMBROSIO\", 'germany'],\n",
       " [86.51, 86.955, \"J. D'AMBROSIO\", 'hungary'],\n",
       " [131.601, 116.816, \"J. D'AMBROSIO\", 'belgium']]"
      ]
     },
     "execution_count": 669,
     "metadata": {},
     "output_type": "execute_result"
    }
   ],
   "source": [
    "ambrosio"
   ]
  },
  {
   "cell_type": "code",
   "execution_count": 670,
   "metadata": {},
   "outputs": [],
   "source": [
    "driver = [vettel,webber,hamilton,button,alonso,massa,schumacher,rosberg,heidfeld,senna,petrov,barrichello]\n",
    "driver = driver + [maldonado,sutil,di_resta,kobayashi,perez,de_la_rosa,buemi,alguersuari,kovalainen,trulli]\n",
    "driver = driver + [chandhok,ricciardo,liuzzi,karthikeyan,glock,ambrosio]"
   ]
  },
  {
   "cell_type": "code",
   "execution_count": 671,
   "metadata": {},
   "outputs": [],
   "source": [
    "with open('data_f1_2011_practice_qualify.csv','w') as data_f1_2011_practice_qualify:\n",
    "    wr = csv.writer(data_f1_2011_practice_qualify)\n",
    "    wr.writerow(['qualify','practice','driver','track'])\n",
    "    for i in driver:\n",
    "        for j in i:\n",
    "             wr.writerow([j[0],j[1],j[2],j[3]])"
   ]
  },
  {
   "cell_type": "markdown",
   "metadata": {},
   "source": [
    "## Utilisation du nouveau dataset"
   ]
  },
  {
   "cell_type": "code",
   "execution_count": 672,
   "metadata": {},
   "outputs": [],
   "source": [
    "data_f1_2011_practice_qualify = pd.read_csv('data_f1_2011_practice_qualify.csv')"
   ]
  },
  {
   "cell_type": "code",
   "execution_count": 673,
   "metadata": {},
   "outputs": [
    {
     "data": {
      "text/html": [
       "<div>\n",
       "<style scoped>\n",
       "    .dataframe tbody tr th:only-of-type {\n",
       "        vertical-align: middle;\n",
       "    }\n",
       "\n",
       "    .dataframe tbody tr th {\n",
       "        vertical-align: top;\n",
       "    }\n",
       "\n",
       "    .dataframe thead th {\n",
       "        text-align: right;\n",
       "    }\n",
       "</style>\n",
       "<table border=\"1\" class=\"dataframe\">\n",
       "  <thead>\n",
       "    <tr style=\"text-align: right;\">\n",
       "      <th></th>\n",
       "      <th>qualify</th>\n",
       "      <th>practice</th>\n",
       "      <th>driver</th>\n",
       "      <th>track</th>\n",
       "    </tr>\n",
       "  </thead>\n",
       "  <tbody>\n",
       "    <tr>\n",
       "      <th>0</th>\n",
       "      <td>73.556</td>\n",
       "      <td>75.245</td>\n",
       "      <td>S. VETTEL</td>\n",
       "      <td>monaco</td>\n",
       "    </tr>\n",
       "    <tr>\n",
       "      <th>1</th>\n",
       "      <td>73.014</td>\n",
       "      <td>73.381</td>\n",
       "      <td>S. VETTEL</td>\n",
       "      <td>canada</td>\n",
       "    </tr>\n",
       "    <tr>\n",
       "      <th>2</th>\n",
       "      <td>96.975</td>\n",
       "      <td>97.258</td>\n",
       "      <td>S. VETTEL</td>\n",
       "      <td>europa</td>\n",
       "    </tr>\n",
       "    <tr>\n",
       "      <th>3</th>\n",
       "      <td>90.431</td>\n",
       "      <td>91.401</td>\n",
       "      <td>S. VETTEL</td>\n",
       "      <td>great_britain</td>\n",
       "    </tr>\n",
       "    <tr>\n",
       "      <th>4</th>\n",
       "      <td>90.216</td>\n",
       "      <td>90.916</td>\n",
       "      <td>S. VETTEL</td>\n",
       "      <td>germany</td>\n",
       "    </tr>\n",
       "  </tbody>\n",
       "</table>\n",
       "</div>"
      ],
      "text/plain": [
       "   qualify  practice     driver          track\n",
       "0   73.556    75.245  S. VETTEL         monaco\n",
       "1   73.014    73.381  S. VETTEL         canada\n",
       "2   96.975    97.258  S. VETTEL         europa\n",
       "3   90.431    91.401  S. VETTEL  great_britain\n",
       "4   90.216    90.916  S. VETTEL        germany"
      ]
     },
     "execution_count": 673,
     "metadata": {},
     "output_type": "execute_result"
    }
   ],
   "source": [
    "data_f1_2011_practice_qualify.head()"
   ]
  },
  {
   "cell_type": "code",
   "execution_count": 674,
   "metadata": {
    "scrolled": true
   },
   "outputs": [
    {
     "data": {
      "image/png": "[encoded data removed]",
      "text/plain": [
       "<Figure size 432x288 with 2 Axes>"
      ]
     },
     "metadata": {
      "needs_background": "light"
     },
     "output_type": "display_data"
    }
   ],
   "source": [
    "g = sns.heatmap(data_f1_2011_practice_qualify.corr())"
   ]
  },
  {
   "cell_type": "code",
   "execution_count": 675,
   "metadata": {},
   "outputs": [
    {
     "data": {
      "text/html": [
       "<div>\n",
       "<style scoped>\n",
       "    .dataframe tbody tr th:only-of-type {\n",
       "        vertical-align: middle;\n",
       "    }\n",
       "\n",
       "    .dataframe tbody tr th {\n",
       "        vertical-align: top;\n",
       "    }\n",
       "\n",
       "    .dataframe thead th {\n",
       "        text-align: right;\n",
       "    }\n",
       "</style>\n",
       "<table border=\"1\" class=\"dataframe\">\n",
       "  <thead>\n",
       "    <tr style=\"text-align: right;\">\n",
       "      <th></th>\n",
       "      <th>qualify</th>\n",
       "      <th>practice</th>\n",
       "      <th>driver</th>\n",
       "      <th>track</th>\n",
       "    </tr>\n",
       "  </thead>\n",
       "  <tbody>\n",
       "    <tr>\n",
       "      <th>91</th>\n",
       "      <td>76.121</td>\n",
       "      <td>77.101</td>\n",
       "      <td>A. SUTIL</td>\n",
       "      <td>monaco</td>\n",
       "    </tr>\n",
       "    <tr>\n",
       "      <th>92</th>\n",
       "      <td>74.931</td>\n",
       "      <td>75.217</td>\n",
       "      <td>A. SUTIL</td>\n",
       "      <td>canada</td>\n",
       "    </tr>\n",
       "    <tr>\n",
       "      <th>93</th>\n",
       "      <td>99.034</td>\n",
       "      <td>99.411</td>\n",
       "      <td>A. SUTIL</td>\n",
       "      <td>europa</td>\n",
       "    </tr>\n",
       "    <tr>\n",
       "      <th>94</th>\n",
       "      <td>92.617</td>\n",
       "      <td>93.660</td>\n",
       "      <td>A. SUTIL</td>\n",
       "      <td>great_britain</td>\n",
       "    </tr>\n",
       "    <tr>\n",
       "      <th>95</th>\n",
       "      <td>91.809</td>\n",
       "      <td>92.391</td>\n",
       "      <td>A. SUTIL</td>\n",
       "      <td>germany</td>\n",
       "    </tr>\n",
       "    <tr>\n",
       "      <th>96</th>\n",
       "      <td>81.445</td>\n",
       "      <td>82.981</td>\n",
       "      <td>A. SUTIL</td>\n",
       "      <td>hungary</td>\n",
       "    </tr>\n",
       "    <tr>\n",
       "      <th>97</th>\n",
       "      <td>126.000</td>\n",
       "      <td>124.663</td>\n",
       "      <td>A. SUTIL</td>\n",
       "      <td>belgium</td>\n",
       "    </tr>\n",
       "    <tr>\n",
       "      <th>98</th>\n",
       "      <td>76.188</td>\n",
       "      <td>76.990</td>\n",
       "      <td>P. DI RESTA</td>\n",
       "      <td>monaco</td>\n",
       "    </tr>\n",
       "    <tr>\n",
       "      <th>99</th>\n",
       "      <td>74.752</td>\n",
       "      <td>75.243</td>\n",
       "      <td>P. DI RESTA</td>\n",
       "      <td>canada</td>\n",
       "    </tr>\n",
       "    <tr>\n",
       "      <th>100</th>\n",
       "      <td>99.422</td>\n",
       "      <td>99.823</td>\n",
       "      <td>P. DI RESTA</td>\n",
       "      <td>europa</td>\n",
       "    </tr>\n",
       "    <tr>\n",
       "      <th>101</th>\n",
       "      <td>91.929</td>\n",
       "      <td>93.423</td>\n",
       "      <td>P. DI RESTA</td>\n",
       "      <td>great_britain</td>\n",
       "    </tr>\n",
       "    <tr>\n",
       "      <th>102</th>\n",
       "      <td>92.560</td>\n",
       "      <td>92.813</td>\n",
       "      <td>P. DI RESTA</td>\n",
       "      <td>germany</td>\n",
       "    </tr>\n",
       "    <tr>\n",
       "      <th>103</th>\n",
       "      <td>82.256</td>\n",
       "      <td>82.835</td>\n",
       "      <td>P. DI RESTA</td>\n",
       "      <td>hungary</td>\n",
       "    </tr>\n",
       "    <tr>\n",
       "      <th>104</th>\n",
       "      <td>127.758</td>\n",
       "      <td>111.751</td>\n",
       "      <td>P. DI RESTA</td>\n",
       "      <td>belgium</td>\n",
       "    </tr>\n",
       "  </tbody>\n",
       "</table>\n",
       "</div>"
      ],
      "text/plain": [
       "     qualify  practice       driver          track\n",
       "91    76.121    77.101     A. SUTIL         monaco\n",
       "92    74.931    75.217     A. SUTIL         canada\n",
       "93    99.034    99.411     A. SUTIL         europa\n",
       "94    92.617    93.660     A. SUTIL  great_britain\n",
       "95    91.809    92.391     A. SUTIL        germany\n",
       "96    81.445    82.981     A. SUTIL        hungary\n",
       "97   126.000   124.663     A. SUTIL        belgium\n",
       "98    76.188    76.990  P. DI RESTA         monaco\n",
       "99    74.752    75.243  P. DI RESTA         canada\n",
       "100   99.422    99.823  P. DI RESTA         europa\n",
       "101   91.929    93.423  P. DI RESTA  great_britain\n",
       "102   92.560    92.813  P. DI RESTA        germany\n",
       "103   82.256    82.835  P. DI RESTA        hungary\n",
       "104  127.758   111.751  P. DI RESTA        belgium"
      ]
     },
     "execution_count": 675,
     "metadata": {},
     "output_type": "execute_result"
    }
   ],
   "source": [
    "data_f1_2011_practice_qualify.query(\"driver == 'P. DI RESTA' or driver == 'A. SUTIL'\")"
   ]
  },
  {
   "cell_type": "markdown",
   "metadata": {},
   "source": [
    "## TMP"
   ]
  },
  {
   "cell_type": "markdown",
   "metadata": {},
   "source": [
    "## Pour A. Sutil (V1)"
   ]
  },
  {
   "cell_type": "code",
   "execution_count": 676,
   "metadata": {},
   "outputs": [
    {
     "data": {
      "text/html": [
       "<div>\n",
       "<style scoped>\n",
       "    .dataframe tbody tr th:only-of-type {\n",
       "        vertical-align: middle;\n",
       "    }\n",
       "\n",
       "    .dataframe tbody tr th {\n",
       "        vertical-align: top;\n",
       "    }\n",
       "\n",
       "    .dataframe thead th {\n",
       "        text-align: right;\n",
       "    }\n",
       "</style>\n",
       "<table border=\"1\" class=\"dataframe\">\n",
       "  <thead>\n",
       "    <tr style=\"text-align: right;\">\n",
       "      <th></th>\n",
       "      <th>qualify</th>\n",
       "      <th>practice</th>\n",
       "      <th>driver</th>\n",
       "      <th>track</th>\n",
       "      <th>ecart</th>\n",
       "    </tr>\n",
       "  </thead>\n",
       "  <tbody>\n",
       "    <tr>\n",
       "      <th>91</th>\n",
       "      <td>76.121</td>\n",
       "      <td>77.101</td>\n",
       "      <td>A. SUTIL</td>\n",
       "      <td>monaco</td>\n",
       "      <td>0.980</td>\n",
       "    </tr>\n",
       "    <tr>\n",
       "      <th>92</th>\n",
       "      <td>74.931</td>\n",
       "      <td>75.217</td>\n",
       "      <td>A. SUTIL</td>\n",
       "      <td>canada</td>\n",
       "      <td>0.286</td>\n",
       "    </tr>\n",
       "    <tr>\n",
       "      <th>93</th>\n",
       "      <td>99.034</td>\n",
       "      <td>99.411</td>\n",
       "      <td>A. SUTIL</td>\n",
       "      <td>europa</td>\n",
       "      <td>0.377</td>\n",
       "    </tr>\n",
       "    <tr>\n",
       "      <th>94</th>\n",
       "      <td>92.617</td>\n",
       "      <td>93.660</td>\n",
       "      <td>A. SUTIL</td>\n",
       "      <td>great_britain</td>\n",
       "      <td>1.043</td>\n",
       "    </tr>\n",
       "    <tr>\n",
       "      <th>95</th>\n",
       "      <td>91.809</td>\n",
       "      <td>92.391</td>\n",
       "      <td>A. SUTIL</td>\n",
       "      <td>germany</td>\n",
       "      <td>0.582</td>\n",
       "    </tr>\n",
       "    <tr>\n",
       "      <th>96</th>\n",
       "      <td>81.445</td>\n",
       "      <td>82.981</td>\n",
       "      <td>A. SUTIL</td>\n",
       "      <td>hungary</td>\n",
       "      <td>1.536</td>\n",
       "    </tr>\n",
       "    <tr>\n",
       "      <th>97</th>\n",
       "      <td>126.000</td>\n",
       "      <td>124.663</td>\n",
       "      <td>A. SUTIL</td>\n",
       "      <td>belgium</td>\n",
       "      <td>-1.337</td>\n",
       "    </tr>\n",
       "  </tbody>\n",
       "</table>\n",
       "</div>"
      ],
      "text/plain": [
       "    qualify  practice    driver          track  ecart\n",
       "91   76.121    77.101  A. SUTIL         monaco  0.980\n",
       "92   74.931    75.217  A. SUTIL         canada  0.286\n",
       "93   99.034    99.411  A. SUTIL         europa  0.377\n",
       "94   92.617    93.660  A. SUTIL  great_britain  1.043\n",
       "95   91.809    92.391  A. SUTIL        germany  0.582\n",
       "96   81.445    82.981  A. SUTIL        hungary  1.536\n",
       "97  126.000   124.663  A. SUTIL        belgium -1.337"
      ]
     },
     "execution_count": 676,
     "metadata": {},
     "output_type": "execute_result"
    }
   ],
   "source": [
    "sutil_ecart"
   ]
  },
  {
   "cell_type": "code",
   "execution_count": 695,
   "metadata": {},
   "outputs": [
    {
     "name": "stderr",
     "output_type": "stream",
     "text": [
      "<ipython-input-695-b058d1030298>:2: SettingWithCopyWarning: \n",
      "A value is trying to be set on a copy of a slice from a DataFrame.\n",
      "Try using .loc[row_indexer,col_indexer] = value instead\n",
      "\n",
      "See the caveats in the documentation: https://pandas.pydata.org/pandas-docs/stable/user_guide/indexing.html#returning-a-view-versus-a-copy\n",
      "  sutil_ecart['ecart'] = sutil_ecart['practice'] - sutil_ecart['qualify']\n"
     ]
    },
    {
     "data": {
      "image/png": "[encoded data removed]",
      "text/plain": [
       "<Figure size 432x288 with 1 Axes>"
      ]
     },
     "metadata": {
      "needs_background": "light"
     },
     "output_type": "display_data"
    }
   ],
   "source": [
    "sutil_ecart = data_f1_2011_practice_qualify.query(\"driver == 'A. SUTIL'\")\n",
    "sutil_ecart['ecart'] = sutil_ecart['practice'] - sutil_ecart['qualify'] \n",
    "\n",
    "g = sns.boxplot(x=\"driver\", y=\"ecart\", data=sutil_ecart)"
   ]
  },
  {
   "cell_type": "markdown",
   "metadata": {},
   "source": [
    "Les écarts entre le meilleur temps en Qualification et le meilleur temps en essai libre est, pour 50% des cas, comprise entre entre 2,5 et 4 secondes. On remarque une valeur abérante sur ce graphe. Elle est du au Grand prix de Grande bretagne donc les  "
   ]
  },
  {
   "cell_type": "markdown",
   "metadata": {},
   "source": [
    "## Pour A. SUTIL"
   ]
  },
  {
   "cell_type": "code",
   "execution_count": 696,
   "metadata": {},
   "outputs": [
    {
     "data": {
      "text/plain": [
       "<seaborn.axisgrid.FacetGrid at 0x7f0b67e1cb50>"
      ]
     },
     "execution_count": 696,
     "metadata": {},
     "output_type": "execute_result"
    },
    {
     "data": {
      "image/png": "[encoded data removed]",
      "text/plain": [
       "<Figure size 360x360 with 1 Axes>"
      ]
     },
     "metadata": {
      "needs_background": "light"
     },
     "output_type": "display_data"
    }
   ],
   "source": [
    "sns.lmplot(x=\"qualify\",y=\"practice\",data = data_f1_2011_practice_qualify.query(\"driver == 'A. SUTIL'\"))"
   ]
  },
  {
   "cell_type": "code",
   "execution_count": 700,
   "metadata": {},
   "outputs": [
    {
     "name": "stderr",
     "output_type": "stream",
     "text": [
      "<ipython-input-700-5949ec56ac5e>:2: SettingWithCopyWarning: \n",
      "A value is trying to be set on a copy of a slice from a DataFrame.\n",
      "Try using .loc[row_indexer,col_indexer] = value instead\n",
      "\n",
      "See the caveats in the documentation: https://pandas.pydata.org/pandas-docs/stable/user_guide/indexing.html#returning-a-view-versus-a-copy\n",
      "  sutil_ecart['ecart'] = sutil_ecart['practice'] - sutil_ecart['qualify']\n"
     ]
    },
    {
     "data": {
      "image/png": "[encoded data removed]",
      "text/plain": [
       "<Figure size 432x288 with 1 Axes>"
      ]
     },
     "metadata": {
      "needs_background": "light"
     },
     "output_type": "display_data"
    }
   ],
   "source": [
    "sutil_ecart = data_f1_2011_practice_qualify.query(\"driver == 'A. SUTIL' \")\n",
    "sutil_ecart['ecart'] = sutil_ecart['practice'] - sutil_ecart['qualify'] \n",
    "\n",
    "g = sns.boxplot(x=\"driver\", y=\"ecart\", data=sutil_ecart)"
   ]
  },
  {
   "cell_type": "markdown",
   "metadata": {},
   "source": [
    "Pour Sutil,on as 4 weekends de courses de données. On remarque ici une données abérantes. Cette données abérantes correspond au grand prix de Belgique dont les essais libres se sont déroulé sous la pluie. On vas donc retirer cette donnée."
   ]
  },
  {
   "cell_type": "code",
   "execution_count": 701,
   "metadata": {},
   "outputs": [
    {
     "name": "stderr",
     "output_type": "stream",
     "text": [
      "<ipython-input-701-c648a34b3824>:2: SettingWithCopyWarning: \n",
      "A value is trying to be set on a copy of a slice from a DataFrame.\n",
      "Try using .loc[row_indexer,col_indexer] = value instead\n",
      "\n",
      "See the caveats in the documentation: https://pandas.pydata.org/pandas-docs/stable/user_guide/indexing.html#returning-a-view-versus-a-copy\n",
      "  sutil_ecart['ecart'] = sutil_ecart['practice'] - sutil_ecart['qualify']\n"
     ]
    },
    {
     "data": {
      "image/png": "[encoded data removed]",
      "text/plain": [
       "<Figure size 432x288 with 1 Axes>"
      ]
     },
     "metadata": {
      "needs_background": "light"
     },
     "output_type": "display_data"
    }
   ],
   "source": [
    "sutil_ecart = data_f1_2011_practice_qualify.query(\"driver == 'A. SUTIL' and track != 'belgium'\")\n",
    "sutil_ecart['ecart'] = sutil_ecart['practice'] - sutil_ecart['qualify'] \n",
    "\n",
    "g = sns.boxplot(x=\"driver\", y=\"ecart\", data=sutil_ecart)"
   ]
  },
  {
   "cell_type": "code",
   "execution_count": 702,
   "metadata": {},
   "outputs": [
    {
     "data": {
      "text/plain": [
       "0.7809999999999988"
      ]
     },
     "execution_count": 702,
     "metadata": {},
     "output_type": "execute_result"
    }
   ],
   "source": [
    "sutil_ecart_median = sutil_ecart['ecart'].median()\n",
    "sutil_ecart_median"
   ]
  },
  {
   "cell_type": "markdown",
   "metadata": {},
   "source": [
    "Sur 2 courses, la médiane des écarts est de 2.537500 secondes."
   ]
  },
  {
   "cell_type": "code",
   "execution_count": 703,
   "metadata": {},
   "outputs": [
    {
     "data": {
      "text/plain": [
       "[<matplotlib.lines.Line2D at 0x7f0b67beb6a0>,\n",
       " <matplotlib.lines.Line2D at 0x7f0b67beb700>]"
      ]
     },
     "execution_count": 703,
     "metadata": {},
     "output_type": "execute_result"
    },
    {
     "data": {
      "image/png": "[encoded data removed]",
      "text/plain": [
       "<Figure size 432x288 with 1 Axes>"
      ]
     },
     "metadata": {
      "needs_background": "light"
     },
     "output_type": "display_data"
    }
   ],
   "source": [
    "fig, ax = mp.pyplot.subplots()\n",
    "mp.pyplot.plot(sutil_ecart[[\"practice\", 'ecart']].to_numpy(), label='quadratic')"
   ]
  },
  {
   "cell_type": "markdown",
   "metadata": {},
   "source": [
    "## Pour Di resta"
   ]
  },
  {
   "cell_type": "markdown",
   "metadata": {},
   "source": [
    "Malheuresement pour nous, on as pas assez de données sur Di resta. La prédiction sera très approximative."
   ]
  },
  {
   "cell_type": "code",
   "execution_count": 704,
   "metadata": {},
   "outputs": [
    {
     "data": {
      "text/plain": [
       "<seaborn.axisgrid.FacetGrid at 0x7f0b67b7b100>"
      ]
     },
     "execution_count": 704,
     "metadata": {},
     "output_type": "execute_result"
    },
    {
     "data": {
      "image/png": "[encoded data removed]",
      "text/plain": [
       "<Figure size 360x360 with 1 Axes>"
      ]
     },
     "metadata": {
      "needs_background": "light"
     },
     "output_type": "display_data"
    }
   ],
   "source": [
    "sns.lmplot(x=\"qualify\",y=\"practice\",data = data_f1_2011_practice_qualify.query(\"driver == 'P. DI RESTA'\"))"
   ]
  },
  {
   "cell_type": "markdown",
   "metadata": {},
   "source": [
    "Ce schéma représente la relation entre le meilleur temps en qualification et le meilleur temps en essai libre. On remarque que même si l'on as pas beaucoup de données, on remarque une cohérence dans la relation. \n",
    "<br><br>\n",
    "Certaines courses apparaitront en données abérante car il y a eu des changements de météo entre les essais libre et les qualifications. C'est pour cela que l'on prendra que les données de la bulgarie et du canada pour Di resta."
   ]
  },
  {
   "cell_type": "code",
   "execution_count": 707,
   "metadata": {},
   "outputs": [
    {
     "data": {
      "text/html": [
       "<div>\n",
       "<style scoped>\n",
       "    .dataframe tbody tr th:only-of-type {\n",
       "        vertical-align: middle;\n",
       "    }\n",
       "\n",
       "    .dataframe tbody tr th {\n",
       "        vertical-align: top;\n",
       "    }\n",
       "\n",
       "    .dataframe thead th {\n",
       "        text-align: right;\n",
       "    }\n",
       "</style>\n",
       "<table border=\"1\" class=\"dataframe\">\n",
       "  <thead>\n",
       "    <tr style=\"text-align: right;\">\n",
       "      <th></th>\n",
       "      <th>qualify</th>\n",
       "      <th>practice</th>\n",
       "      <th>driver</th>\n",
       "      <th>track</th>\n",
       "      <th>ecart</th>\n",
       "    </tr>\n",
       "  </thead>\n",
       "  <tbody>\n",
       "    <tr>\n",
       "      <th>98</th>\n",
       "      <td>76.188</td>\n",
       "      <td>76.990</td>\n",
       "      <td>P. DI RESTA</td>\n",
       "      <td>monaco</td>\n",
       "      <td>0.802</td>\n",
       "    </tr>\n",
       "    <tr>\n",
       "      <th>99</th>\n",
       "      <td>74.752</td>\n",
       "      <td>75.243</td>\n",
       "      <td>P. DI RESTA</td>\n",
       "      <td>canada</td>\n",
       "      <td>0.491</td>\n",
       "    </tr>\n",
       "    <tr>\n",
       "      <th>100</th>\n",
       "      <td>99.422</td>\n",
       "      <td>99.823</td>\n",
       "      <td>P. DI RESTA</td>\n",
       "      <td>europa</td>\n",
       "      <td>0.401</td>\n",
       "    </tr>\n",
       "    <tr>\n",
       "      <th>101</th>\n",
       "      <td>91.929</td>\n",
       "      <td>93.423</td>\n",
       "      <td>P. DI RESTA</td>\n",
       "      <td>great_britain</td>\n",
       "      <td>1.494</td>\n",
       "    </tr>\n",
       "    <tr>\n",
       "      <th>102</th>\n",
       "      <td>92.560</td>\n",
       "      <td>92.813</td>\n",
       "      <td>P. DI RESTA</td>\n",
       "      <td>germany</td>\n",
       "      <td>0.253</td>\n",
       "    </tr>\n",
       "    <tr>\n",
       "      <th>103</th>\n",
       "      <td>82.256</td>\n",
       "      <td>82.835</td>\n",
       "      <td>P. DI RESTA</td>\n",
       "      <td>hungary</td>\n",
       "      <td>0.579</td>\n",
       "    </tr>\n",
       "  </tbody>\n",
       "</table>\n",
       "</div>"
      ],
      "text/plain": [
       "     qualify  practice       driver          track  ecart\n",
       "98    76.188    76.990  P. DI RESTA         monaco  0.802\n",
       "99    74.752    75.243  P. DI RESTA         canada  0.491\n",
       "100   99.422    99.823  P. DI RESTA         europa  0.401\n",
       "101   91.929    93.423  P. DI RESTA  great_britain  1.494\n",
       "102   92.560    92.813  P. DI RESTA        germany  0.253\n",
       "103   82.256    82.835  P. DI RESTA        hungary  0.579"
      ]
     },
     "execution_count": 707,
     "metadata": {},
     "output_type": "execute_result"
    }
   ],
   "source": [
    "di_resta_ecart"
   ]
  },
  {
   "cell_type": "code",
   "execution_count": 705,
   "metadata": {},
   "outputs": [
    {
     "name": "stderr",
     "output_type": "stream",
     "text": [
      "<ipython-input-705-c8892c4577a3>:2: SettingWithCopyWarning: \n",
      "A value is trying to be set on a copy of a slice from a DataFrame.\n",
      "Try using .loc[row_indexer,col_indexer] = value instead\n",
      "\n",
      "See the caveats in the documentation: https://pandas.pydata.org/pandas-docs/stable/user_guide/indexing.html#returning-a-view-versus-a-copy\n",
      "  di_resta_ecart['ecart'] = di_resta_ecart['practice'] - di_resta_ecart['qualify']\n"
     ]
    },
    {
     "data": {
      "image/png": "[encoded data removed]",
      "text/plain": [
       "<Figure size 432x288 with 1 Axes>"
      ]
     },
     "metadata": {
      "needs_background": "light"
     },
     "output_type": "display_data"
    }
   ],
   "source": [
    "di_resta_ecart = data_f1_2011_practice_qualify.query(\"driver == 'P. DI RESTA'\")\n",
    "di_resta_ecart['ecart'] = di_resta_ecart['practice'] - di_resta_ecart['qualify'] \n",
    "\n",
    "g = sns.boxplot(x=\"driver\", y=\"ecart\", data=di_resta_ecart)"
   ]
  },
  {
   "cell_type": "code",
   "execution_count": 708,
   "metadata": {},
   "outputs": [
    {
     "name": "stderr",
     "output_type": "stream",
     "text": [
      "<ipython-input-708-8838e17ea9f2>:2: SettingWithCopyWarning: \n",
      "A value is trying to be set on a copy of a slice from a DataFrame.\n",
      "Try using .loc[row_indexer,col_indexer] = value instead\n",
      "\n",
      "See the caveats in the documentation: https://pandas.pydata.org/pandas-docs/stable/user_guide/indexing.html#returning-a-view-versus-a-copy\n",
      "  di_resta_ecart['ecart'] = di_resta_ecart['practice'] - di_resta_ecart['qualify']\n"
     ]
    },
    {
     "data": {
      "image/png": "[encoded data removed]",
      "text/plain": [
       "<Figure size 432x288 with 1 Axes>"
      ]
     },
     "metadata": {
      "needs_background": "light"
     },
     "output_type": "display_data"
    }
   ],
   "source": [
    "di_resta_ecart = data_f1_2011_practice_qualify.query(\"driver == 'P. DI RESTA' and track != 'belgium' and track != 'great_britain'\")\n",
    "di_resta_ecart['ecart'] = di_resta_ecart['practice'] - di_resta_ecart['qualify'] \n",
    "\n",
    "g = sns.boxplot(x=\"driver\", y=\"ecart\", data=di_resta_ecart)"
   ]
  },
  {
   "cell_type": "code",
   "execution_count": 709,
   "metadata": {},
   "outputs": [
    {
     "data": {
      "text/plain": [
       "0.49099999999999966"
      ]
     },
     "execution_count": 709,
     "metadata": {},
     "output_type": "execute_result"
    }
   ],
   "source": [
    "di_resta_ecart_median = di_resta_ecart['ecart'].median()\n",
    "di_resta_ecart_median"
   ]
  },
  {
   "cell_type": "markdown",
   "metadata": {},
   "source": [
    "Sur 2 courses, la médiane des écarts est de 2.811 secondes."
   ]
  },
  {
   "cell_type": "code",
   "execution_count": 710,
   "metadata": {},
   "outputs": [
    {
     "data": {
      "text/plain": [
       "[<matplotlib.lines.Line2D at 0x7f0b68e7e070>,\n",
       " <matplotlib.lines.Line2D at 0x7f0b68e7e2b0>]"
      ]
     },
     "execution_count": 710,
     "metadata": {},
     "output_type": "execute_result"
    },
    {
     "data": {
      "image/png": "[encoded data removed]",
      "text/plain": [
       "<Figure size 432x288 with 1 Axes>"
      ]
     },
     "metadata": {
      "needs_background": "light"
     },
     "output_type": "display_data"
    }
   ],
   "source": [
    "fig, ax = mp.pyplot.subplots()\n",
    "mp.pyplot.plot(di_resta_ecart[[\"practice\", 'ecart']].to_numpy(), label='quadratic')"
   ]
  },
  {
   "cell_type": "markdown",
   "metadata": {},
   "source": [
    "## *Essai libre du grand prix d'Italie*"
   ]
  },
  {
   "cell_type": "markdown",
   "metadata": {},
   "source": [
    "## Import du dataset"
   ]
  },
  {
   "cell_type": "code",
   "execution_count": 711,
   "metadata": {},
   "outputs": [
    {
     "ename": "AttributeError",
     "evalue": "Can only use .str accessor with string values!",
     "output_type": "error",
     "traceback": [
      "\u001b[0;31m---------------------------------------------------------------------------\u001b[0m",
      "\u001b[0;31mAttributeError\u001b[0m                            Traceback (most recent call last)",
      "\u001b[0;32m<ipython-input-711-39c95d1053a2>\u001b[0m in \u001b[0;36m<module>\u001b[0;34m\u001b[0m\n\u001b[1;32m      1\u001b[0m \u001b[0;31m## Grand prix d'italie\u001b[0m\u001b[0;34m\u001b[0m\u001b[0;34m\u001b[0m\u001b[0;34m\u001b[0m\u001b[0m\n\u001b[0;32m----> 2\u001b[0;31m \u001b[0mitalia_p1\u001b[0m\u001b[0;34m[\u001b[0m\u001b[0;34m\"Time\"\u001b[0m\u001b[0;34m]\u001b[0m \u001b[0;34m=\u001b[0m  \u001b[0mitalia_p1\u001b[0m\u001b[0;34m[\u001b[0m\u001b[0;34m\"Time\"\u001b[0m\u001b[0;34m]\u001b[0m\u001b[0;34m.\u001b[0m\u001b[0mstr\u001b[0m\u001b[0;34m.\u001b[0m\u001b[0mreplace\u001b[0m\u001b[0;34m(\u001b[0m\u001b[0;34m','\u001b[0m\u001b[0;34m,\u001b[0m\u001b[0;34m'.'\u001b[0m\u001b[0;34m)\u001b[0m\u001b[0;34m.\u001b[0m\u001b[0mastype\u001b[0m\u001b[0;34m(\u001b[0m\u001b[0mfloat\u001b[0m\u001b[0;34m)\u001b[0m\u001b[0;34m\u001b[0m\u001b[0;34m\u001b[0m\u001b[0m\n\u001b[0m\u001b[1;32m      3\u001b[0m \u001b[0mitalia_p2\u001b[0m\u001b[0;34m[\u001b[0m\u001b[0;34m\"Time\"\u001b[0m\u001b[0;34m]\u001b[0m \u001b[0;34m=\u001b[0m  \u001b[0mitalia_p2\u001b[0m\u001b[0;34m[\u001b[0m\u001b[0;34m\"Time\"\u001b[0m\u001b[0;34m]\u001b[0m\u001b[0;34m.\u001b[0m\u001b[0mstr\u001b[0m\u001b[0;34m.\u001b[0m\u001b[0mreplace\u001b[0m\u001b[0;34m(\u001b[0m\u001b[0;34m','\u001b[0m\u001b[0;34m,\u001b[0m\u001b[0;34m'.'\u001b[0m\u001b[0;34m)\u001b[0m\u001b[0;34m.\u001b[0m\u001b[0mastype\u001b[0m\u001b[0;34m(\u001b[0m\u001b[0mfloat\u001b[0m\u001b[0;34m)\u001b[0m\u001b[0;34m\u001b[0m\u001b[0;34m\u001b[0m\u001b[0m\n\u001b[1;32m      4\u001b[0m \u001b[0mitalia_p3\u001b[0m\u001b[0;34m[\u001b[0m\u001b[0;34m\"Time\"\u001b[0m\u001b[0;34m]\u001b[0m \u001b[0;34m=\u001b[0m  \u001b[0mitalia_p3\u001b[0m\u001b[0;34m[\u001b[0m\u001b[0;34m\"Time\"\u001b[0m\u001b[0;34m]\u001b[0m\u001b[0;34m.\u001b[0m\u001b[0mstr\u001b[0m\u001b[0;34m.\u001b[0m\u001b[0mreplace\u001b[0m\u001b[0;34m(\u001b[0m\u001b[0;34m','\u001b[0m\u001b[0;34m,\u001b[0m\u001b[0;34m'.'\u001b[0m\u001b[0;34m)\u001b[0m\u001b[0;34m.\u001b[0m\u001b[0mastype\u001b[0m\u001b[0;34m(\u001b[0m\u001b[0mfloat\u001b[0m\u001b[0;34m)\u001b[0m\u001b[0;34m\u001b[0m\u001b[0;34m\u001b[0m\u001b[0m\n\u001b[1;32m      5\u001b[0m \u001b[0mitalia_qualify\u001b[0m\u001b[0;34m[\u001b[0m\u001b[0;34m\"Time\"\u001b[0m\u001b[0;34m]\u001b[0m \u001b[0;34m=\u001b[0m  \u001b[0mitalia_qualify\u001b[0m\u001b[0;34m[\u001b[0m\u001b[0;34m\"Time\"\u001b[0m\u001b[0;34m]\u001b[0m\u001b[0;34m.\u001b[0m\u001b[0mstr\u001b[0m\u001b[0;34m.\u001b[0m\u001b[0mreplace\u001b[0m\u001b[0;34m(\u001b[0m\u001b[0;34m','\u001b[0m\u001b[0;34m,\u001b[0m\u001b[0;34m'.'\u001b[0m\u001b[0;34m)\u001b[0m\u001b[0;34m.\u001b[0m\u001b[0mastype\u001b[0m\u001b[0;34m(\u001b[0m\u001b[0mfloat\u001b[0m\u001b[0;34m)\u001b[0m\u001b[0;34m\u001b[0m\u001b[0;34m\u001b[0m\u001b[0m\n",
      "\u001b[0;32m/usr/local/lib/python3.8/dist-packages/pandas/core/generic.py\u001b[0m in \u001b[0;36m__getattr__\u001b[0;34m(self, name)\u001b[0m\n\u001b[1;32m   5124\u001b[0m             \u001b[0;32mor\u001b[0m \u001b[0mname\u001b[0m \u001b[0;32min\u001b[0m \u001b[0mself\u001b[0m\u001b[0;34m.\u001b[0m\u001b[0m_accessors\u001b[0m\u001b[0;34m\u001b[0m\u001b[0;34m\u001b[0m\u001b[0m\n\u001b[1;32m   5125\u001b[0m         ):\n\u001b[0;32m-> 5126\u001b[0;31m             \u001b[0;32mreturn\u001b[0m \u001b[0mobject\u001b[0m\u001b[0;34m.\u001b[0m\u001b[0m__getattribute__\u001b[0m\u001b[0;34m(\u001b[0m\u001b[0mself\u001b[0m\u001b[0;34m,\u001b[0m \u001b[0mname\u001b[0m\u001b[0;34m)\u001b[0m\u001b[0;34m\u001b[0m\u001b[0;34m\u001b[0m\u001b[0m\n\u001b[0m\u001b[1;32m   5127\u001b[0m         \u001b[0;32melse\u001b[0m\u001b[0;34m:\u001b[0m\u001b[0;34m\u001b[0m\u001b[0;34m\u001b[0m\u001b[0m\n\u001b[1;32m   5128\u001b[0m             \u001b[0;32mif\u001b[0m \u001b[0mself\u001b[0m\u001b[0;34m.\u001b[0m\u001b[0m_info_axis\u001b[0m\u001b[0;34m.\u001b[0m\u001b[0m_can_hold_identifiers_and_holds_name\u001b[0m\u001b[0;34m(\u001b[0m\u001b[0mname\u001b[0m\u001b[0;34m)\u001b[0m\u001b[0;34m:\u001b[0m\u001b[0;34m\u001b[0m\u001b[0;34m\u001b[0m\u001b[0m\n",
      "\u001b[0;32m/usr/local/lib/python3.8/dist-packages/pandas/core/accessor.py\u001b[0m in \u001b[0;36m__get__\u001b[0;34m(self, obj, cls)\u001b[0m\n\u001b[1;32m    185\u001b[0m             \u001b[0;31m# we're accessing the attribute of the class, i.e., Dataset.geo\u001b[0m\u001b[0;34m\u001b[0m\u001b[0;34m\u001b[0m\u001b[0;34m\u001b[0m\u001b[0m\n\u001b[1;32m    186\u001b[0m             \u001b[0;32mreturn\u001b[0m \u001b[0mself\u001b[0m\u001b[0;34m.\u001b[0m\u001b[0m_accessor\u001b[0m\u001b[0;34m\u001b[0m\u001b[0;34m\u001b[0m\u001b[0m\n\u001b[0;32m--> 187\u001b[0;31m         \u001b[0maccessor_obj\u001b[0m \u001b[0;34m=\u001b[0m \u001b[0mself\u001b[0m\u001b[0;34m.\u001b[0m\u001b[0m_accessor\u001b[0m\u001b[0;34m(\u001b[0m\u001b[0mobj\u001b[0m\u001b[0;34m)\u001b[0m\u001b[0;34m\u001b[0m\u001b[0;34m\u001b[0m\u001b[0m\n\u001b[0m\u001b[1;32m    188\u001b[0m         \u001b[0;31m# Replace the property with the accessor object. Inspired by:\u001b[0m\u001b[0;34m\u001b[0m\u001b[0;34m\u001b[0m\u001b[0;34m\u001b[0m\u001b[0m\n\u001b[1;32m    189\u001b[0m         \u001b[0;31m# https://www.pydanny.com/cached-property.html\u001b[0m\u001b[0;34m\u001b[0m\u001b[0;34m\u001b[0m\u001b[0;34m\u001b[0m\u001b[0m\n",
      "\u001b[0;32m/usr/local/lib/python3.8/dist-packages/pandas/core/strings.py\u001b[0m in \u001b[0;36m__init__\u001b[0;34m(self, data)\u001b[0m\n\u001b[1;32m   2098\u001b[0m \u001b[0;34m\u001b[0m\u001b[0m\n\u001b[1;32m   2099\u001b[0m     \u001b[0;32mdef\u001b[0m \u001b[0m__init__\u001b[0m\u001b[0;34m(\u001b[0m\u001b[0mself\u001b[0m\u001b[0;34m,\u001b[0m \u001b[0mdata\u001b[0m\u001b[0;34m)\u001b[0m\u001b[0;34m:\u001b[0m\u001b[0;34m\u001b[0m\u001b[0;34m\u001b[0m\u001b[0m\n\u001b[0;32m-> 2100\u001b[0;31m         \u001b[0mself\u001b[0m\u001b[0;34m.\u001b[0m\u001b[0m_inferred_dtype\u001b[0m \u001b[0;34m=\u001b[0m \u001b[0mself\u001b[0m\u001b[0;34m.\u001b[0m\u001b[0m_validate\u001b[0m\u001b[0;34m(\u001b[0m\u001b[0mdata\u001b[0m\u001b[0;34m)\u001b[0m\u001b[0;34m\u001b[0m\u001b[0;34m\u001b[0m\u001b[0m\n\u001b[0m\u001b[1;32m   2101\u001b[0m         \u001b[0mself\u001b[0m\u001b[0;34m.\u001b[0m\u001b[0m_is_categorical\u001b[0m \u001b[0;34m=\u001b[0m \u001b[0mis_categorical_dtype\u001b[0m\u001b[0;34m(\u001b[0m\u001b[0mdata\u001b[0m\u001b[0;34m.\u001b[0m\u001b[0mdtype\u001b[0m\u001b[0;34m)\u001b[0m\u001b[0;34m\u001b[0m\u001b[0;34m\u001b[0m\u001b[0m\n\u001b[1;32m   2102\u001b[0m         \u001b[0mself\u001b[0m\u001b[0;34m.\u001b[0m\u001b[0m_is_string\u001b[0m \u001b[0;34m=\u001b[0m \u001b[0mdata\u001b[0m\u001b[0;34m.\u001b[0m\u001b[0mdtype\u001b[0m\u001b[0;34m.\u001b[0m\u001b[0mname\u001b[0m \u001b[0;34m==\u001b[0m \u001b[0;34m\"string\"\u001b[0m\u001b[0;34m\u001b[0m\u001b[0;34m\u001b[0m\u001b[0m\n",
      "\u001b[0;32m/usr/local/lib/python3.8/dist-packages/pandas/core/strings.py\u001b[0m in \u001b[0;36m_validate\u001b[0;34m(data)\u001b[0m\n\u001b[1;32m   2155\u001b[0m \u001b[0;34m\u001b[0m\u001b[0m\n\u001b[1;32m   2156\u001b[0m         \u001b[0;32mif\u001b[0m \u001b[0minferred_dtype\u001b[0m \u001b[0;32mnot\u001b[0m \u001b[0;32min\u001b[0m \u001b[0mallowed_types\u001b[0m\u001b[0;34m:\u001b[0m\u001b[0;34m\u001b[0m\u001b[0;34m\u001b[0m\u001b[0m\n\u001b[0;32m-> 2157\u001b[0;31m             \u001b[0;32mraise\u001b[0m \u001b[0mAttributeError\u001b[0m\u001b[0;34m(\u001b[0m\u001b[0;34m\"Can only use .str accessor with string values!\"\u001b[0m\u001b[0;34m)\u001b[0m\u001b[0;34m\u001b[0m\u001b[0;34m\u001b[0m\u001b[0m\n\u001b[0m\u001b[1;32m   2158\u001b[0m         \u001b[0;32mreturn\u001b[0m \u001b[0minferred_dtype\u001b[0m\u001b[0;34m\u001b[0m\u001b[0;34m\u001b[0m\u001b[0m\n\u001b[1;32m   2159\u001b[0m \u001b[0;34m\u001b[0m\u001b[0m\n",
      "\u001b[0;31mAttributeError\u001b[0m: Can only use .str accessor with string values!"
     ]
    }
   ],
   "source": [
    "## Grand prix d'italie\n",
    "italia_p1[\"Time\"] =  italia_p1[\"Time\"].str.replace(',','.').astype(float)\n",
    "italia_p2[\"Time\"] =  italia_p2[\"Time\"].str.replace(',','.').astype(float)\n",
    "italia_p3[\"Time\"] =  italia_p3[\"Time\"].str.replace(',','.').astype(float)\n",
    "italia_qualify[\"Time\"] =  italia_qualify[\"Time\"].str.replace(',','.').astype(float)"
   ]
  },
  {
   "cell_type": "code",
   "execution_count": 712,
   "metadata": {},
   "outputs": [],
   "source": [
    "sutil = minimumPractice(italia_p1,italia_p2,italia_p3,'A. SUTIL')\n",
    "di_resta = minimumPractice(italia_p1,italia_p2,italia_p3,'P. DI RESTA')\n",
    "senna = minimumPractice(italia_p1,italia_p2,italia_p3,'B. SENNA')\n",
    "petrov = minimumPractice(italia_p1,italia_p2,italia_p3,'V. PETROV')"
   ]
  },
  {
   "cell_type": "markdown",
   "metadata": {},
   "source": [
    "### Petrov"
   ]
  },
  {
   "cell_type": "code",
   "execution_count": 713,
   "metadata": {},
   "outputs": [
    {
     "data": {
      "text/html": [
       "<div>\n",
       "<style scoped>\n",
       "    .dataframe tbody tr th:only-of-type {\n",
       "        vertical-align: middle;\n",
       "    }\n",
       "\n",
       "    .dataframe tbody tr th {\n",
       "        vertical-align: top;\n",
       "    }\n",
       "\n",
       "    .dataframe thead th {\n",
       "        text-align: right;\n",
       "    }\n",
       "</style>\n",
       "<table border=\"1\" class=\"dataframe\">\n",
       "  <thead>\n",
       "    <tr style=\"text-align: right;\">\n",
       "      <th></th>\n",
       "      <th>qualify</th>\n",
       "      <th>practice</th>\n",
       "      <th>driver</th>\n",
       "      <th>track</th>\n",
       "    </tr>\n",
       "  </thead>\n",
       "  <tbody>\n",
       "    <tr>\n",
       "      <th>63</th>\n",
       "      <td>NaN</td>\n",
       "      <td>NaN</td>\n",
       "      <td>B. SENNA</td>\n",
       "      <td>monaco</td>\n",
       "    </tr>\n",
       "    <tr>\n",
       "      <th>64</th>\n",
       "      <td>NaN</td>\n",
       "      <td>NaN</td>\n",
       "      <td>B. SENNA</td>\n",
       "      <td>canada</td>\n",
       "    </tr>\n",
       "    <tr>\n",
       "      <th>65</th>\n",
       "      <td>NaN</td>\n",
       "      <td>NaN</td>\n",
       "      <td>B. SENNA</td>\n",
       "      <td>europa</td>\n",
       "    </tr>\n",
       "    <tr>\n",
       "      <th>66</th>\n",
       "      <td>NaN</td>\n",
       "      <td>NaN</td>\n",
       "      <td>B. SENNA</td>\n",
       "      <td>great_britain</td>\n",
       "    </tr>\n",
       "    <tr>\n",
       "      <th>67</th>\n",
       "      <td>NaN</td>\n",
       "      <td>NaN</td>\n",
       "      <td>B. SENNA</td>\n",
       "      <td>germany</td>\n",
       "    </tr>\n",
       "    <tr>\n",
       "      <th>68</th>\n",
       "      <td>NaN</td>\n",
       "      <td>85.855</td>\n",
       "      <td>B. SENNA</td>\n",
       "      <td>hungary</td>\n",
       "    </tr>\n",
       "    <tr>\n",
       "      <th>69</th>\n",
       "      <td>111.121</td>\n",
       "      <td>113.835</td>\n",
       "      <td>B. SENNA</td>\n",
       "      <td>belgium</td>\n",
       "    </tr>\n",
       "    <tr>\n",
       "      <th>70</th>\n",
       "      <td>75.815</td>\n",
       "      <td>77.337</td>\n",
       "      <td>V. PETROV</td>\n",
       "      <td>monaco</td>\n",
       "    </tr>\n",
       "    <tr>\n",
       "      <th>71</th>\n",
       "      <td>74.085</td>\n",
       "      <td>74.917</td>\n",
       "      <td>V. PETROV</td>\n",
       "      <td>canada</td>\n",
       "    </tr>\n",
       "    <tr>\n",
       "      <th>72</th>\n",
       "      <td>99.068</td>\n",
       "      <td>98.822</td>\n",
       "      <td>V. PETROV</td>\n",
       "      <td>europa</td>\n",
       "    </tr>\n",
       "    <tr>\n",
       "      <th>73</th>\n",
       "      <td>92.734</td>\n",
       "      <td>94.042</td>\n",
       "      <td>V. PETROV</td>\n",
       "      <td>great_britain</td>\n",
       "    </tr>\n",
       "    <tr>\n",
       "      <th>74</th>\n",
       "      <td>91.985</td>\n",
       "      <td>92.777</td>\n",
       "      <td>V. PETROV</td>\n",
       "      <td>germany</td>\n",
       "    </tr>\n",
       "    <tr>\n",
       "      <th>75</th>\n",
       "      <td>82.284</td>\n",
       "      <td>83.175</td>\n",
       "      <td>V. PETROV</td>\n",
       "      <td>hungary</td>\n",
       "    </tr>\n",
       "    <tr>\n",
       "      <th>76</th>\n",
       "      <td>112.303</td>\n",
       "      <td>122.234</td>\n",
       "      <td>V. PETROV</td>\n",
       "      <td>belgium</td>\n",
       "    </tr>\n",
       "  </tbody>\n",
       "</table>\n",
       "</div>"
      ],
      "text/plain": [
       "    qualify  practice     driver          track\n",
       "63      NaN       NaN   B. SENNA         monaco\n",
       "64      NaN       NaN   B. SENNA         canada\n",
       "65      NaN       NaN   B. SENNA         europa\n",
       "66      NaN       NaN   B. SENNA  great_britain\n",
       "67      NaN       NaN   B. SENNA        germany\n",
       "68      NaN    85.855   B. SENNA        hungary\n",
       "69  111.121   113.835   B. SENNA        belgium\n",
       "70   75.815    77.337  V. PETROV         monaco\n",
       "71   74.085    74.917  V. PETROV         canada\n",
       "72   99.068    98.822  V. PETROV         europa\n",
       "73   92.734    94.042  V. PETROV  great_britain\n",
       "74   91.985    92.777  V. PETROV        germany\n",
       "75   82.284    83.175  V. PETROV        hungary\n",
       "76  112.303   122.234  V. PETROV        belgium"
      ]
     },
     "execution_count": 713,
     "metadata": {},
     "output_type": "execute_result"
    }
   ],
   "source": [
    "data_f1_2011_practice_qualify.query(\"driver == 'V. PETROV' or driver == 'B. SENNA'\")"
   ]
  },
  {
   "cell_type": "code",
   "execution_count": 719,
   "metadata": {},
   "outputs": [
    {
     "name": "stderr",
     "output_type": "stream",
     "text": [
      "<ipython-input-719-0d9b16ce7ce5>:2: SettingWithCopyWarning: \n",
      "A value is trying to be set on a copy of a slice from a DataFrame.\n",
      "Try using .loc[row_indexer,col_indexer] = value instead\n",
      "\n",
      "See the caveats in the documentation: https://pandas.pydata.org/pandas-docs/stable/user_guide/indexing.html#returning-a-view-versus-a-copy\n",
      "  petrov_ecart['ecart'] = petrov_ecart['practice'] - petrov_ecart['qualify']\n"
     ]
    },
    {
     "data": {
      "image/png": "[encoded data removed]",
      "text/plain": [
       "<Figure size 432x288 with 1 Axes>"
      ]
     },
     "metadata": {
      "needs_background": "light"
     },
     "output_type": "display_data"
    }
   ],
   "source": [
    "petrov_ecart = data_f1_2011_practice_qualify.query(\"driver == 'V. PETROV'\")\n",
    "petrov_ecart['ecart'] = petrov_ecart['practice'] - petrov_ecart['qualify'] \n",
    "\n",
    "g = sns.boxplot(x=\"driver\", y=\"ecart\", data=petrov_ecart)"
   ]
  },
  {
   "cell_type": "code",
   "execution_count": 721,
   "metadata": {},
   "outputs": [
    {
     "data": {
      "text/html": [
       "<div>\n",
       "<style scoped>\n",
       "    .dataframe tbody tr th:only-of-type {\n",
       "        vertical-align: middle;\n",
       "    }\n",
       "\n",
       "    .dataframe tbody tr th {\n",
       "        vertical-align: top;\n",
       "    }\n",
       "\n",
       "    .dataframe thead th {\n",
       "        text-align: right;\n",
       "    }\n",
       "</style>\n",
       "<table border=\"1\" class=\"dataframe\">\n",
       "  <thead>\n",
       "    <tr style=\"text-align: right;\">\n",
       "      <th></th>\n",
       "      <th>qualify</th>\n",
       "      <th>practice</th>\n",
       "      <th>driver</th>\n",
       "      <th>track</th>\n",
       "      <th>ecart</th>\n",
       "    </tr>\n",
       "  </thead>\n",
       "  <tbody>\n",
       "    <tr>\n",
       "      <th>71</th>\n",
       "      <td>74.085</td>\n",
       "      <td>74.917</td>\n",
       "      <td>V. PETROV</td>\n",
       "      <td>canada</td>\n",
       "      <td>0.832</td>\n",
       "    </tr>\n",
       "    <tr>\n",
       "      <th>74</th>\n",
       "      <td>91.985</td>\n",
       "      <td>92.777</td>\n",
       "      <td>V. PETROV</td>\n",
       "      <td>germany</td>\n",
       "      <td>0.792</td>\n",
       "    </tr>\n",
       "    <tr>\n",
       "      <th>75</th>\n",
       "      <td>82.284</td>\n",
       "      <td>83.175</td>\n",
       "      <td>V. PETROV</td>\n",
       "      <td>hungary</td>\n",
       "      <td>0.891</td>\n",
       "    </tr>\n",
       "  </tbody>\n",
       "</table>\n",
       "</div>"
      ],
      "text/plain": [
       "    qualify  practice     driver    track  ecart\n",
       "71   74.085    74.917  V. PETROV   canada  0.832\n",
       "74   91.985    92.777  V. PETROV  germany  0.792\n",
       "75   82.284    83.175  V. PETROV  hungary  0.891"
      ]
     },
     "execution_count": 721,
     "metadata": {},
     "output_type": "execute_result"
    }
   ],
   "source": [
    "petrov_ecart"
   ]
  },
  {
   "cell_type": "code",
   "execution_count": 720,
   "metadata": {},
   "outputs": [
    {
     "name": "stderr",
     "output_type": "stream",
     "text": [
      "<ipython-input-720-c9a08b2e6de1>:2: SettingWithCopyWarning: \n",
      "A value is trying to be set on a copy of a slice from a DataFrame.\n",
      "Try using .loc[row_indexer,col_indexer] = value instead\n",
      "\n",
      "See the caveats in the documentation: https://pandas.pydata.org/pandas-docs/stable/user_guide/indexing.html#returning-a-view-versus-a-copy\n",
      "  petrov_ecart['ecart'] = petrov_ecart['practice'] - petrov_ecart['qualify']\n"
     ]
    },
    {
     "data": {
      "image/png": "[encoded data removed]",
      "text/plain": [
       "<Figure size 432x288 with 1 Axes>"
      ]
     },
     "metadata": {
      "needs_background": "light"
     },
     "output_type": "display_data"
    }
   ],
   "source": [
    "petrov_ecart = data_f1_2011_practice_qualify.query(\"driver == 'V. PETROV' and track != 'belgium' and track != 'great_britain' and track != 'monaco' and track != 'europa' \")\n",
    "petrov_ecart['ecart'] = petrov_ecart['practice'] - petrov_ecart['qualify'] \n",
    "\n",
    "g = sns.boxplot(x=\"driver\", y=\"ecart\", data=petrov_ecart)"
   ]
  },
  {
   "cell_type": "code",
   "execution_count": 722,
   "metadata": {},
   "outputs": [],
   "source": [
    "petrov_ecart_median = petrov_ecart['ecart'].median()"
   ]
  },
  {
   "cell_type": "markdown",
   "metadata": {},
   "source": [
    "### Résulat"
   ]
  },
  {
   "cell_type": "code",
   "execution_count": 723,
   "metadata": {},
   "outputs": [
    {
     "data": {
      "text/plain": [
       "83.762"
      ]
     },
     "execution_count": 723,
     "metadata": {},
     "output_type": "execute_result"
    }
   ],
   "source": [
    "sutil - sutil_ecart_median"
   ]
  },
  {
   "cell_type": "code",
   "execution_count": 727,
   "metadata": {},
   "outputs": [
    {
     "data": {
      "text/plain": [
       "84.543"
      ]
     },
     "execution_count": 727,
     "metadata": {},
     "output_type": "execute_result"
    }
   ],
   "source": [
    "sutil"
   ]
  },
  {
   "cell_type": "code",
   "execution_count": 724,
   "metadata": {},
   "outputs": [
    {
     "data": {
      "text/plain": [
       "84.09"
      ]
     },
     "execution_count": 724,
     "metadata": {},
     "output_type": "execute_result"
    }
   ],
   "source": [
    "di_resta - di_resta_ecart_median"
   ]
  },
  {
   "cell_type": "code",
   "execution_count": 728,
   "metadata": {},
   "outputs": [
    {
     "data": {
      "text/plain": [
       "84.581"
      ]
     },
     "execution_count": 728,
     "metadata": {},
     "output_type": "execute_result"
    }
   ],
   "source": [
    "di_resta"
   ]
  },
  {
   "cell_type": "markdown",
   "metadata": {},
   "source": [
    "En utilisant la médian, on prédit un temps en de 84.0125 pour Sutil et de 83.141 pour Di resta "
   ]
  },
  {
   "cell_type": "code",
   "execution_count": 725,
   "metadata": {},
   "outputs": [
    {
     "data": {
      "text/plain": [
       "84.05699999999999"
      ]
     },
     "execution_count": 725,
     "metadata": {},
     "output_type": "execute_result"
    }
   ],
   "source": [
    "petrov - petrov_ecart_median"
   ]
  },
  {
   "cell_type": "code",
   "execution_count": 726,
   "metadata": {},
   "outputs": [
    {
     "data": {
      "text/plain": [
       "84.02099999999999"
      ]
     },
     "execution_count": 726,
     "metadata": {},
     "output_type": "execute_result"
    }
   ],
   "source": [
    "senna - petrov_ecart_median"
   ]
  },
  {
   "cell_type": "markdown",
   "metadata": {},
   "source": [
    "## Fonction"
   ]
  },
  {
   "cell_type": "code",
   "execution_count": 638,
   "metadata": {},
   "outputs": [],
   "source": [
    "## Retourne le temps le plus rapide effectué pendant les essais libres pour un pilote\n",
    "\n",
    "## Prend en paramètre 3 tableau avec une colonne Time et Name et un String qui est le nom du pilote\n",
    "def minimumPractice(p1,p2,p3,name):\n",
    "    query = 'Name == \"' + name + '\"'\n",
    "    minimum = 99999\n",
    "    \n",
    "    tmp = p1[['Time','Name']].query(query)\n",
    "    if (np.isnan(tmp['Time'].min()) != True) :\n",
    "        minimum = tmp['Time'].min()\n",
    "\n",
    "    tmp = p2[['Time','Name']].query(query)\n",
    "    if (np.isnan(tmp['Time'].min()) != True) and (tmp['Time'].min() < minimum) :\n",
    "        minimum = tmp['Time'].min()\n",
    "\n",
    "    tmp = p3[['Time','Name']].query(query)\n",
    "    if (np.isnan(tmp['Time'].min()) != True) and (tmp['Time'].min() < minimum) :\n",
    "        minimum = tmp['Time'].min()\n",
    "    \n",
    "    if minimum == 99999:\n",
    "        minimum = float(\"nan\")\n",
    "    return minimum    "
   ]
  },
  {
   "cell_type": "code",
   "execution_count": 639,
   "metadata": {},
   "outputs": [],
   "source": [
    "## Retourne le temps le plus rapide effectué pendant les essais libres et son meilleur temps au qualification\n",
    "## pour un pilote \n",
    "\n",
    "## Prend en paramètre 4 tableau avec une colonne Time et Name et un String qui est le nom du pilote\n",
    "def minimumPracticeAndQualify(p1,p2,p3,qualify,name):\n",
    "    minimum_practice = minimumPractice(p1,p2,p3,name)\n",
    "    \n",
    "    query = 'Name == \"' + name + '\"'\n",
    "    tmp = qualify[['Time','Name']].query(query)\n",
    "    minimum_qualify = tmp['Time'].min()\n",
    "    minimum = [minimum_qualify,minimum_practice,name]\n",
    "    return minimum\n",
    "    "
   ]
  },
  {
   "cell_type": "code",
   "execution_count": 640,
   "metadata": {},
   "outputs": [],
   "source": [
    "## Retourne les temps les plus rapide effectuées pendant les essais libres et son meilleur temps au qualification \n",
    "## pour chaque grand prix pour un pilote \n",
    "\n",
    "## Prend en paramètre un nom de pilote\n",
    "def minimumPracticeAndQualifyForAllRace(name):\n",
    "    monaco = minimumPracticeAndQualify(monaco_p1,monaco_p2,monaco_p3,monaco_qualify,name) + ['monaco']\n",
    "    canada = minimumPracticeAndQualify(canada_p1,canada_p2,canada_p3,canada_qualify,name) + ['canada']\n",
    "    europa = minimumPracticeAndQualify(europa_p1,europa_p2,europa_p3,europa_qualify,name) + ['europa']\n",
    "    great_britain = minimumPracticeAndQualify(great_britain_p1,great_britain_p2,great_britain_p3,great_britain_qualify,name) + ['great_britain']\n",
    "    germany = minimumPracticeAndQualify(germany_p1,germany_p2,germany_p3,germany_qualify,name) + ['germany']\n",
    "    hungary = minimumPracticeAndQualify(hungary_p1,hungary_p2,hungary_p3,hungary_qualify,name) + ['hungary']\n",
    "    belgium = minimumPracticeAndQualify(belgium_p1,belgium_p2,belgium_p3,belgium_qualify,name) + ['belgium']\n",
    "    \n",
    "    total = [monaco,canada,europa,great_britain,germany,hungary,belgium]\n",
    "    return total\n",
    "    \n",
    "    "
   ]
  },
  {
   "cell_type": "code",
   "execution_count": null,
   "metadata": {},
   "outputs": [],
   "source": []
  }
 ],
 "metadata": {
  "kernelspec": {
   "display_name": "Python 3",
   "language": "python",
   "name": "python3"
  },
  "language_info": {
   "codemirror_mode": {
    "name": "ipython",
    "version": 3
   },
   "file_extension": ".py",
   "mimetype": "text/x-python",
   "name": "python",
   "nbconvert_exporter": "python",
   "pygments_lexer": "ipython3",
   "version": "3.8.2"
  }
 },
 "nbformat": 4,
 "nbformat_minor": 4
}
