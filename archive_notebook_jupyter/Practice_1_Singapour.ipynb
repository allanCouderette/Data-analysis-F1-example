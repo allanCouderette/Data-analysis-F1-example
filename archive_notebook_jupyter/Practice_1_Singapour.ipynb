{
 "cells": [
  {
   "cell_type": "markdown",
   "metadata": {},
   "source": [
    "# Practice 1 Singapour"
   ]
  },
  {
   "cell_type": "markdown",
   "metadata": {},
   "source": []
  },
  {
   "cell_type": "markdown",
   "metadata": {},
   "source": [
    "## Import"
   ]
  },
  {
   "cell_type": "code",
   "execution_count": 27,
   "metadata": {},
   "outputs": [],
   "source": [
    "import pandas as pd\n",
    "import seaborn as sns\n",
    "import datetime as dt\n",
    "\n",
    "\n",
    "p1 = pd.read_csv('14_Singapore_data/p1.csv',sep=';') "
   ]
  },
  {
   "cell_type": "markdown",
   "metadata": {},
   "source": [
    "## Info sur le dataset"
   ]
  },
  {
   "cell_type": "code",
   "execution_count": 28,
   "metadata": {},
   "outputs": [
    {
     "data": {
      "text/html": [
       "<div>\n",
       "<style scoped>\n",
       "    .dataframe tbody tr th:only-of-type {\n",
       "        vertical-align: middle;\n",
       "    }\n",
       "\n",
       "    .dataframe tbody tr th {\n",
       "        vertical-align: top;\n",
       "    }\n",
       "\n",
       "    .dataframe thead th {\n",
       "        text-align: right;\n",
       "    }\n",
       "</style>\n",
       "<table border=\"1\" class=\"dataframe\">\n",
       "  <thead>\n",
       "    <tr style=\"text-align: right;\">\n",
       "      <th></th>\n",
       "      <th>Name</th>\n",
       "      <th>DriverNum</th>\n",
       "      <th>Lap</th>\n",
       "      <th>Time</th>\n",
       "      <th>Elapsed</th>\n",
       "      <th>Stint</th>\n",
       "      <th>Fuel Corrected Laptime</th>\n",
       "      <th>Stint Length</th>\n",
       "      <th>Lap in stint</th>\n",
       "    </tr>\n",
       "  </thead>\n",
       "  <tbody>\n",
       "    <tr>\n",
       "      <th>0</th>\n",
       "      <td>T. GLOCK</td>\n",
       "      <td>24</td>\n",
       "      <td>2</td>\n",
       "      <td>120,943</td>\n",
       "      <td>1152,238</td>\n",
       "      <td>1</td>\n",
       "      <td>120,787</td>\n",
       "      <td>3</td>\n",
       "      <td>1</td>\n",
       "    </tr>\n",
       "    <tr>\n",
       "      <th>1</th>\n",
       "      <td>T. GLOCK</td>\n",
       "      <td>24</td>\n",
       "      <td>3</td>\n",
       "      <td>119,486</td>\n",
       "      <td>1271,724</td>\n",
       "      <td>1</td>\n",
       "      <td>119,408</td>\n",
       "      <td>3</td>\n",
       "      <td>2</td>\n",
       "    </tr>\n",
       "    <tr>\n",
       "      <th>2</th>\n",
       "      <td>T. GLOCK</td>\n",
       "      <td>24</td>\n",
       "      <td>4</td>\n",
       "      <td>118,792</td>\n",
       "      <td>1390,516</td>\n",
       "      <td>1</td>\n",
       "      <td>118,792</td>\n",
       "      <td>3</td>\n",
       "      <td>3</td>\n",
       "    </tr>\n",
       "    <tr>\n",
       "      <th>3</th>\n",
       "      <td>J. D'AMBROSIO</td>\n",
       "      <td>25</td>\n",
       "      <td>2</td>\n",
       "      <td>124,36</td>\n",
       "      <td>849,98</td>\n",
       "      <td>1</td>\n",
       "      <td>124,048</td>\n",
       "      <td>5</td>\n",
       "      <td>1</td>\n",
       "    </tr>\n",
       "    <tr>\n",
       "      <th>4</th>\n",
       "      <td>J. D'AMBROSIO</td>\n",
       "      <td>25</td>\n",
       "      <td>3</td>\n",
       "      <td>121,941</td>\n",
       "      <td>971,921</td>\n",
       "      <td>1</td>\n",
       "      <td>121,707</td>\n",
       "      <td>5</td>\n",
       "      <td>2</td>\n",
       "    </tr>\n",
       "  </tbody>\n",
       "</table>\n",
       "</div>"
      ],
      "text/plain": [
       "            Name  DriverNum  Lap     Time   Elapsed  Stint  \\\n",
       "0       T. GLOCK         24    2  120,943  1152,238      1   \n",
       "1       T. GLOCK         24    3  119,486  1271,724      1   \n",
       "2       T. GLOCK         24    4  118,792  1390,516      1   \n",
       "3  J. D'AMBROSIO         25    2   124,36    849,98      1   \n",
       "4  J. D'AMBROSIO         25    3  121,941   971,921      1   \n",
       "\n",
       "  Fuel Corrected Laptime  Stint Length  Lap in stint  \n",
       "0                120,787             3             1  \n",
       "1                119,408             3             2  \n",
       "2                118,792             3             3  \n",
       "3                124,048             5             1  \n",
       "4                121,707             5             2  "
      ]
     },
     "execution_count": 28,
     "metadata": {},
     "output_type": "execute_result"
    }
   ],
   "source": [
    "p1.head()"
   ]
  },
  {
   "cell_type": "code",
   "execution_count": 29,
   "metadata": {},
   "outputs": [
    {
     "name": "stdout",
     "output_type": "stream",
     "text": [
      "<class 'pandas.core.frame.DataFrame'>\n",
      "RangeIndex: 197 entries, 0 to 196\n",
      "Data columns (total 9 columns):\n",
      " #   Column                  Non-Null Count  Dtype \n",
      "---  ------                  --------------  ----- \n",
      " 0   Name                    197 non-null    object\n",
      " 1   DriverNum               197 non-null    int64 \n",
      " 2   Lap                     197 non-null    int64 \n",
      " 3   Time                    197 non-null    object\n",
      " 4   Elapsed                 197 non-null    object\n",
      " 5   Stint                   197 non-null    int64 \n",
      " 6   Fuel Corrected Laptime  197 non-null    object\n",
      " 7   Stint Length            197 non-null    int64 \n",
      " 8   Lap in stint            197 non-null    int64 \n",
      "dtypes: int64(5), object(4)\n",
      "memory usage: 14.0+ KB\n"
     ]
    }
   ],
   "source": [
    "p1.info()"
   ]
  },
  {
   "cell_type": "code",
   "execution_count": 30,
   "metadata": {},
   "outputs": [],
   "source": [
    "p1[\"Time\"] =  p1[\"Time\"].str.replace(',','.').astype(float)"
   ]
  },
  {
   "cell_type": "code",
   "execution_count": 31,
   "metadata": {},
   "outputs": [
    {
     "data": {
      "image/png": "[encoded data removed]",
      "text/plain": [
       "<Figure size 432x288 with 1 Axes>"
      ]
     },
     "metadata": {
      "needs_background": "light"
     },
     "output_type": "display_data"
    }
   ],
   "source": [
    "rax = sns.swarmplot(data=p1,x=\"Time\",y=\"Name\")"
   ]
  },
  {
   "cell_type": "markdown",
   "metadata": {},
   "source": [
    "Ce graphique nous permet de voir la répartition des temps au tour en fonction des pilotes. Concentrons nous sur nos pilotes, V. PETROV et B. SENNA ."
   ]
  },
  {
   "cell_type": "markdown",
   "metadata": {},
   "source": [
    "### V. PETROV"
   ]
  },
  {
   "cell_type": "code",
   "execution_count": 32,
   "metadata": {},
   "outputs": [
    {
     "data": {
      "text/plain": [
       "<AxesSubplot:xlabel='Lap', ylabel='Time'>"
      ]
     },
     "execution_count": 32,
     "metadata": {},
     "output_type": "execute_result"
    },
    {
     "data": {
      "image/png": "[encoded data removed]",
      "text/plain": [
       "<Figure size 432x288 with 1 Axes>"
      ]
     },
     "metadata": {
      "needs_background": "light"
     },
     "output_type": "display_data"
    }
   ],
   "source": [
    "sns.lineplot(x = 'Lap', y = 'Time',data=p1.query('Name == \"V. PETROV\"'))"
   ]
  },
  {
   "cell_type": "code",
   "execution_count": null,
   "metadata": {},
   "outputs": [],
   "source": []
  },
  {
   "cell_type": "code",
   "execution_count": 33,
   "metadata": {},
   "outputs": [
    {
     "data": {
      "text/html": [
       "<div>\n",
       "<style scoped>\n",
       "    .dataframe tbody tr th:only-of-type {\n",
       "        vertical-align: middle;\n",
       "    }\n",
       "\n",
       "    .dataframe tbody tr th {\n",
       "        vertical-align: top;\n",
       "    }\n",
       "\n",
       "    .dataframe thead th {\n",
       "        text-align: right;\n",
       "    }\n",
       "</style>\n",
       "<table border=\"1\" class=\"dataframe\">\n",
       "  <thead>\n",
       "    <tr style=\"text-align: right;\">\n",
       "      <th></th>\n",
       "      <th>Name</th>\n",
       "      <th>DriverNum</th>\n",
       "      <th>Lap</th>\n",
       "      <th>Time</th>\n",
       "      <th>Elapsed</th>\n",
       "      <th>Stint</th>\n",
       "      <th>Fuel Corrected Laptime</th>\n",
       "      <th>Stint Length</th>\n",
       "      <th>Lap in stint</th>\n",
       "    </tr>\n",
       "  </thead>\n",
       "  <tbody>\n",
       "    <tr>\n",
       "      <th>125</th>\n",
       "      <td>V. PETROV</td>\n",
       "      <td>10</td>\n",
       "      <td>2</td>\n",
       "      <td>119.106</td>\n",
       "      <td>828,674</td>\n",
       "      <td>1</td>\n",
       "      <td>118,716</td>\n",
       "      <td>6</td>\n",
       "      <td>1</td>\n",
       "    </tr>\n",
       "    <tr>\n",
       "      <th>126</th>\n",
       "      <td>V. PETROV</td>\n",
       "      <td>10</td>\n",
       "      <td>3</td>\n",
       "      <td>116.693</td>\n",
       "      <td>945,367</td>\n",
       "      <td>1</td>\n",
       "      <td>116,381</td>\n",
       "      <td>6</td>\n",
       "      <td>2</td>\n",
       "    </tr>\n",
       "    <tr>\n",
       "      <th>127</th>\n",
       "      <td>V. PETROV</td>\n",
       "      <td>10</td>\n",
       "      <td>4</td>\n",
       "      <td>115.802</td>\n",
       "      <td>1061,169</td>\n",
       "      <td>1</td>\n",
       "      <td>115,568</td>\n",
       "      <td>6</td>\n",
       "      <td>3</td>\n",
       "    </tr>\n",
       "    <tr>\n",
       "      <th>128</th>\n",
       "      <td>V. PETROV</td>\n",
       "      <td>10</td>\n",
       "      <td>5</td>\n",
       "      <td>114.736</td>\n",
       "      <td>1175,905</td>\n",
       "      <td>1</td>\n",
       "      <td>114,58</td>\n",
       "      <td>6</td>\n",
       "      <td>4</td>\n",
       "    </tr>\n",
       "    <tr>\n",
       "      <th>129</th>\n",
       "      <td>V. PETROV</td>\n",
       "      <td>10</td>\n",
       "      <td>6</td>\n",
       "      <td>114.866</td>\n",
       "      <td>1290,771</td>\n",
       "      <td>1</td>\n",
       "      <td>114,788</td>\n",
       "      <td>6</td>\n",
       "      <td>5</td>\n",
       "    </tr>\n",
       "    <tr>\n",
       "      <th>130</th>\n",
       "      <td>V. PETROV</td>\n",
       "      <td>10</td>\n",
       "      <td>7</td>\n",
       "      <td>141.685</td>\n",
       "      <td>1432,456</td>\n",
       "      <td>1</td>\n",
       "      <td>141,685</td>\n",
       "      <td>6</td>\n",
       "      <td>6</td>\n",
       "    </tr>\n",
       "  </tbody>\n",
       "</table>\n",
       "</div>"
      ],
      "text/plain": [
       "          Name  DriverNum  Lap     Time   Elapsed  Stint  \\\n",
       "125  V. PETROV         10    2  119.106   828,674      1   \n",
       "126  V. PETROV         10    3  116.693   945,367      1   \n",
       "127  V. PETROV         10    4  115.802  1061,169      1   \n",
       "128  V. PETROV         10    5  114.736  1175,905      1   \n",
       "129  V. PETROV         10    6  114.866  1290,771      1   \n",
       "130  V. PETROV         10    7  141.685  1432,456      1   \n",
       "\n",
       "    Fuel Corrected Laptime  Stint Length  Lap in stint  \n",
       "125                118,716             6             1  \n",
       "126                116,381             6             2  \n",
       "127                115,568             6             3  \n",
       "128                 114,58             6             4  \n",
       "129                114,788             6             5  \n",
       "130                141,685             6             6  "
      ]
     },
     "execution_count": 33,
     "metadata": {},
     "output_type": "execute_result"
    }
   ],
   "source": [
    "p1.query('Name == \"V. PETROV\"')"
   ]
  },
  {
   "cell_type": "markdown",
   "metadata": {},
   "source": [
    "### B. SENNA"
   ]
  },
  {
   "cell_type": "code",
   "execution_count": 35,
   "metadata": {},
   "outputs": [
    {
     "data": {
      "text/plain": [
       "<AxesSubplot:xlabel='Lap', ylabel='Time'>"
      ]
     },
     "execution_count": 35,
     "metadata": {},
     "output_type": "execute_result"
    },
    {
     "data": {
      "image/png": "[encoded data removed]",
      "text/plain": [
       "<Figure size 432x288 with 1 Axes>"
      ]
     },
     "metadata": {
      "needs_background": "light"
     },
     "output_type": "display_data"
    }
   ],
   "source": [
    "sns.lineplot(x = 'Lap', y = 'Time',data=p1.query('Name == \"B. SENNA\"'))"
   ]
  },
  {
   "cell_type": "code",
   "execution_count": 36,
   "metadata": {},
   "outputs": [
    {
     "data": {
      "text/html": [
       "<div>\n",
       "<style scoped>\n",
       "    .dataframe tbody tr th:only-of-type {\n",
       "        vertical-align: middle;\n",
       "    }\n",
       "\n",
       "    .dataframe tbody tr th {\n",
       "        vertical-align: top;\n",
       "    }\n",
       "\n",
       "    .dataframe thead th {\n",
       "        text-align: right;\n",
       "    }\n",
       "</style>\n",
       "<table border=\"1\" class=\"dataframe\">\n",
       "  <thead>\n",
       "    <tr style=\"text-align: right;\">\n",
       "      <th></th>\n",
       "      <th>Name</th>\n",
       "      <th>DriverNum</th>\n",
       "      <th>Lap</th>\n",
       "      <th>Time</th>\n",
       "      <th>Elapsed</th>\n",
       "      <th>Stint</th>\n",
       "      <th>Fuel Corrected Laptime</th>\n",
       "      <th>Stint Length</th>\n",
       "      <th>Lap in stint</th>\n",
       "    </tr>\n",
       "  </thead>\n",
       "  <tbody>\n",
       "    <tr>\n",
       "      <th>92</th>\n",
       "      <td>B. SENNA</td>\n",
       "      <td>9</td>\n",
       "      <td>2</td>\n",
       "      <td>119.340</td>\n",
       "      <td>786,671</td>\n",
       "      <td>1</td>\n",
       "      <td>118,95</td>\n",
       "      <td>6</td>\n",
       "      <td>1</td>\n",
       "    </tr>\n",
       "    <tr>\n",
       "      <th>93</th>\n",
       "      <td>B. SENNA</td>\n",
       "      <td>9</td>\n",
       "      <td>3</td>\n",
       "      <td>116.682</td>\n",
       "      <td>903,353</td>\n",
       "      <td>1</td>\n",
       "      <td>116,37</td>\n",
       "      <td>6</td>\n",
       "      <td>2</td>\n",
       "    </tr>\n",
       "    <tr>\n",
       "      <th>94</th>\n",
       "      <td>B. SENNA</td>\n",
       "      <td>9</td>\n",
       "      <td>4</td>\n",
       "      <td>122.936</td>\n",
       "      <td>1026,289</td>\n",
       "      <td>1</td>\n",
       "      <td>122,702</td>\n",
       "      <td>6</td>\n",
       "      <td>3</td>\n",
       "    </tr>\n",
       "    <tr>\n",
       "      <th>95</th>\n",
       "      <td>B. SENNA</td>\n",
       "      <td>9</td>\n",
       "      <td>5</td>\n",
       "      <td>116.577</td>\n",
       "      <td>1142,866</td>\n",
       "      <td>1</td>\n",
       "      <td>116,421</td>\n",
       "      <td>6</td>\n",
       "      <td>4</td>\n",
       "    </tr>\n",
       "    <tr>\n",
       "      <th>96</th>\n",
       "      <td>B. SENNA</td>\n",
       "      <td>9</td>\n",
       "      <td>6</td>\n",
       "      <td>114.912</td>\n",
       "      <td>1257,778</td>\n",
       "      <td>1</td>\n",
       "      <td>114,834</td>\n",
       "      <td>6</td>\n",
       "      <td>5</td>\n",
       "    </tr>\n",
       "    <tr>\n",
       "      <th>97</th>\n",
       "      <td>B. SENNA</td>\n",
       "      <td>9</td>\n",
       "      <td>7</td>\n",
       "      <td>131.024</td>\n",
       "      <td>1388,802</td>\n",
       "      <td>1</td>\n",
       "      <td>131,024</td>\n",
       "      <td>6</td>\n",
       "      <td>6</td>\n",
       "    </tr>\n",
       "    <tr>\n",
       "      <th>98</th>\n",
       "      <td>B. SENNA</td>\n",
       "      <td>9</td>\n",
       "      <td>9</td>\n",
       "      <td>115.424</td>\n",
       "      <td>2170,207</td>\n",
       "      <td>2</td>\n",
       "      <td>115,112</td>\n",
       "      <td>5</td>\n",
       "      <td>1</td>\n",
       "    </tr>\n",
       "    <tr>\n",
       "      <th>99</th>\n",
       "      <td>B. SENNA</td>\n",
       "      <td>9</td>\n",
       "      <td>10</td>\n",
       "      <td>113.765</td>\n",
       "      <td>2283,972</td>\n",
       "      <td>2</td>\n",
       "      <td>113,531</td>\n",
       "      <td>5</td>\n",
       "      <td>2</td>\n",
       "    </tr>\n",
       "    <tr>\n",
       "      <th>100</th>\n",
       "      <td>B. SENNA</td>\n",
       "      <td>9</td>\n",
       "      <td>11</td>\n",
       "      <td>117.713</td>\n",
       "      <td>2401,685</td>\n",
       "      <td>2</td>\n",
       "      <td>117,557</td>\n",
       "      <td>5</td>\n",
       "      <td>3</td>\n",
       "    </tr>\n",
       "    <tr>\n",
       "      <th>101</th>\n",
       "      <td>B. SENNA</td>\n",
       "      <td>9</td>\n",
       "      <td>12</td>\n",
       "      <td>114.819</td>\n",
       "      <td>2516,504</td>\n",
       "      <td>2</td>\n",
       "      <td>114,741</td>\n",
       "      <td>5</td>\n",
       "      <td>4</td>\n",
       "    </tr>\n",
       "    <tr>\n",
       "      <th>102</th>\n",
       "      <td>B. SENNA</td>\n",
       "      <td>9</td>\n",
       "      <td>13</td>\n",
       "      <td>128.906</td>\n",
       "      <td>2645,41</td>\n",
       "      <td>2</td>\n",
       "      <td>128,906</td>\n",
       "      <td>5</td>\n",
       "      <td>5</td>\n",
       "    </tr>\n",
       "    <tr>\n",
       "      <th>103</th>\n",
       "      <td>B. SENNA</td>\n",
       "      <td>9</td>\n",
       "      <td>15</td>\n",
       "      <td>115.112</td>\n",
       "      <td>3531,253</td>\n",
       "      <td>3</td>\n",
       "      <td>115,034</td>\n",
       "      <td>2</td>\n",
       "      <td>1</td>\n",
       "    </tr>\n",
       "    <tr>\n",
       "      <th>104</th>\n",
       "      <td>B. SENNA</td>\n",
       "      <td>9</td>\n",
       "      <td>16</td>\n",
       "      <td>141.721</td>\n",
       "      <td>3672,974</td>\n",
       "      <td>3</td>\n",
       "      <td>141,721</td>\n",
       "      <td>2</td>\n",
       "      <td>2</td>\n",
       "    </tr>\n",
       "  </tbody>\n",
       "</table>\n",
       "</div>"
      ],
      "text/plain": [
       "         Name  DriverNum  Lap     Time   Elapsed  Stint  \\\n",
       "92   B. SENNA          9    2  119.340   786,671      1   \n",
       "93   B. SENNA          9    3  116.682   903,353      1   \n",
       "94   B. SENNA          9    4  122.936  1026,289      1   \n",
       "95   B. SENNA          9    5  116.577  1142,866      1   \n",
       "96   B. SENNA          9    6  114.912  1257,778      1   \n",
       "97   B. SENNA          9    7  131.024  1388,802      1   \n",
       "98   B. SENNA          9    9  115.424  2170,207      2   \n",
       "99   B. SENNA          9   10  113.765  2283,972      2   \n",
       "100  B. SENNA          9   11  117.713  2401,685      2   \n",
       "101  B. SENNA          9   12  114.819  2516,504      2   \n",
       "102  B. SENNA          9   13  128.906   2645,41      2   \n",
       "103  B. SENNA          9   15  115.112  3531,253      3   \n",
       "104  B. SENNA          9   16  141.721  3672,974      3   \n",
       "\n",
       "    Fuel Corrected Laptime  Stint Length  Lap in stint  \n",
       "92                  118,95             6             1  \n",
       "93                  116,37             6             2  \n",
       "94                 122,702             6             3  \n",
       "95                 116,421             6             4  \n",
       "96                 114,834             6             5  \n",
       "97                 131,024             6             6  \n",
       "98                 115,112             5             1  \n",
       "99                 113,531             5             2  \n",
       "100                117,557             5             3  \n",
       "101                114,741             5             4  \n",
       "102                128,906             5             5  \n",
       "103                115,034             2             1  \n",
       "104                141,721             2             2  "
      ]
     },
     "execution_count": 36,
     "metadata": {},
     "output_type": "execute_result"
    }
   ],
   "source": [
    "p1.query('Name == \"B. SENNA\"')"
   ]
  },
  {
   "cell_type": "code",
   "execution_count": null,
   "metadata": {},
   "outputs": [],
   "source": []
  }
 ],
 "metadata": {
  "kernelspec": {
   "display_name": "Python 3",
   "language": "python",
   "name": "python3"
  },
  "language_info": {
   "codemirror_mode": {
    "name": "ipython",
    "version": 3
   },
   "file_extension": ".py",
   "mimetype": "text/x-python",
   "name": "python",
   "nbconvert_exporter": "python",
   "pygments_lexer": "ipython3",
   "version": "3.8.2"
  }
 },
 "nbformat": 4,
 "nbformat_minor": 4
}
