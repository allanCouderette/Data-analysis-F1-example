{
 "cells": [
  {
   "cell_type": "markdown",
   "metadata": {},
   "source": [
    "# Overview data"
   ]
  },
  {
   "cell_type": "markdown",
   "metadata": {},
   "source": [
    "## 1) Circuit.csv"
   ]
  },
  {
   "cell_type": "code",
   "execution_count": 2,
   "metadata": {},
   "outputs": [],
   "source": [
    "import pandas as pd\n",
    "\n",
    "## encoding UTF-8 is not in UTF-8\n",
    "circuits = pd.read_csv('data/circuits.csv', encoding = \"ISO-8859-1\", engine='python')\n",
    "constructorResults = pd.read_csv('data/constructorResults.csv', encoding = \"ISO-8859-1\", engine='python') \n",
    "constructors = pd.read_csv('data/constructors.csv', encoding = \"ISO-8859-1\", engine='python') \n",
    "constructorStandings = pd.read_csv('data/constructorStandings.csv', encoding = \"ISO-8859-1\", engine='python') \n",
    "drivers = pd.read_csv('data/drivers.csv', encoding = \"ISO-8859-1\", engine='python') \n",
    "driverStandings = pd.read_csv('data/driverStandings.csv', encoding = \"ISO-8859-1\", engine='python')\n",
    "lapTimes = pd.read_csv('data/lapTimes.csv', encoding = \"ISO-8859-1\", engine='python') \n",
    "pitStops = pd.read_csv('data/pitStops.csv', encoding = \"ISO-8859-1\", engine='python') \n",
    "qualifying = pd.read_csv('data/qualifying.csv')\n",
    "races = pd.read_csv('data/races.csv') \n",
    "results = pd.read_csv('data/results.csv', encoding = \"ISO-8859-1\", engine='python')\n",
    "seasons = pd.read_csv('data/seasons.csv', encoding = \"ISO-8859-1\", engine='python') \n",
    "status = pd.read_csv('data/status.csv', encoding = \"ISO-8859-1\", engine='python')"
   ]
  },
  {
   "cell_type": "code",
   "execution_count": 6,
   "metadata": {
    "scrolled": false
   },
   "outputs": [],
   "source": [
    "races_2011 = races.query('year == 2011')"
   ]
  },
  {
   "cell_type": "code",
   "execution_count": 44,
   "metadata": {},
   "outputs": [],
   "source": [
    "status = pd.read_table('data/gp_2018_esp-master/practice/practice_report_p1.md')"
   ]
  },
  {
   "cell_type": "code",
   "execution_count": 45,
   "metadata": {},
   "outputs": [
    {
     "data": {
      "text/html": [
       "<div>\n",
       "<style scoped>\n",
       "    .dataframe tbody tr th:only-of-type {\n",
       "        vertical-align: middle;\n",
       "    }\n",
       "\n",
       "    .dataframe tbody tr th {\n",
       "        vertical-align: top;\n",
       "    }\n",
       "\n",
       "    .dataframe thead th {\n",
       "        text-align: right;\n",
       "    }\n",
       "</style>\n",
       "<table border=\"1\" class=\"dataframe\">\n",
       "  <thead>\n",
       "    <tr style=\"text-align: right;\">\n",
       "      <th></th>\n",
       "      <th>## Session Utilisation</th>\n",
       "    </tr>\n",
       "  </thead>\n",
       "  <tbody>\n",
       "    <tr>\n",
       "      <th>0</th>\n",
       "      <td>Activity in Free Practice 1 took place as foll...</td>\n",
       "    </tr>\n",
       "    <tr>\n",
       "      <th>1</th>\n",
       "      <td>![](images/f1_2018_esp_P1-utilisation-1.png)&lt;!...</td>\n",
       "    </tr>\n",
       "    <tr>\n",
       "      <th>2</th>\n",
       "      <td>### Performance Summary</td>\n",
       "    </tr>\n",
       "    <tr>\n",
       "      <th>3</th>\n",
       "      <td>| Driver            | Number | Fastest Lap | P...</td>\n",
       "    </tr>\n",
       "    <tr>\n",
       "      <th>4</th>\n",
       "      <td>| :---------------- | -----: | ----------: | -...</td>\n",
       "    </tr>\n",
       "  </tbody>\n",
       "</table>\n",
       "</div>"
      ],
      "text/plain": [
       "                              ## Session Utilisation\n",
       "0  Activity in Free Practice 1 took place as foll...\n",
       "1  ![](images/f1_2018_esp_P1-utilisation-1.png)<!...\n",
       "2                            ### Performance Summary\n",
       "3  | Driver            | Number | Fastest Lap | P...\n",
       "4  | :---------------- | -----: | ----------: | -..."
      ]
     },
     "execution_count": 45,
     "metadata": {},
     "output_type": "execute_result"
    }
   ],
   "source": [
    "status.head()"
   ]
  },
  {
   "cell_type": "code",
   "execution_count": null,
   "metadata": {},
   "outputs": [],
   "source": [
    "status = status.rename({''})"
   ]
  }
 ],
 "metadata": {
  "kernelspec": {
   "display_name": "Python 3",
   "language": "python",
   "name": "python3"
  },
  "language_info": {
   "codemirror_mode": {
    "name": "ipython",
    "version": 3
   },
   "file_extension": ".py",
   "mimetype": "text/x-python",
   "name": "python",
   "nbconvert_exporter": "python",
   "pygments_lexer": "ipython3",
   "version": "3.8.2"
  }
 },
 "nbformat": 4,
 "nbformat_minor": 4
}
